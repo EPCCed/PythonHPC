{
 "cells": [
  {
   "cell_type": "code",
   "execution_count": null,
   "id": "0f02bd1d",
   "metadata": {},
   "outputs": [],
   "source": [
    "%load trafficlib.py"
   ]
  },
  {
   "cell_type": "code",
   "execution_count": null,
   "id": "6bf3595a",
   "metadata": {},
   "outputs": [],
   "source": [
    "%load traffic.py"
   ]
  },
  {
   "cell_type": "code",
   "execution_count": null,
   "id": "1aee0750",
   "metadata": {},
   "outputs": [],
   "source": []
  }
 ],
 "metadata": {
  "kernelspec": {
   "display_name": "Python 3 (ipykernel)",
   "language": "python",
   "name": "python3"
  },
  "language_info": {
   "codemirror_mode": {
    "name": "ipython",
    "version": 3
   },
   "file_extension": ".py",
   "mimetype": "text/x-python",
   "name": "python",
   "nbconvert_exporter": "python",
   "pygments_lexer": "ipython3",
   "version": "3.9.12"
  }
 },
 "nbformat": 4,
 "nbformat_minor": 5
}
