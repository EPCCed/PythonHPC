{
 "cells": [
  {
   "cell_type": "markdown",
   "metadata": {},
   "source": [
    "<br>\n",
    "<hr style=\"border: solid 1px red; margin-bottom: 2% \">\n",
    "\n",
    "## ARCHER2 COURSE\n",
    "# SCIENTIFIC PYTHON: NUMPY\n",
    "\n",
    "<hr style=\"border: solid 1px red; margin-bottom: -1%; \">\n",
    "<br>\n",
    "\n",
    "## Website:  http://www.archer2.ac.uk \n",
    "\n",
    "## Helpdesk: support@archer2.ac.uk\n",
    "\n",
    "<br>\n",
    "<img src=\"../images/ukri_logo.png\" style=\"float: center\">\n",
    "<br>\n",
    "<img src=\"../images/hpe_logo.png\" style=\"float: center\">\n",
    "<br>\n",
    "<img src=\"../images/epcc_logo.png\" style=\"float: center\">\n",
    "<br>\n",
    "<img src=\"../images/archer2_logo.png\" style=\"float: center\">\n",
    "\n",
    "<br>"
   ]
  },
  {
   "cell_type": "markdown",
   "metadata": {},
   "source": [
    "<img src=\"../images/reusematerial.png\"\n",
    "style=\"float: center; width: 50%\" >"
   ]
  },
  {
   "cell_type": "markdown",
   "metadata": {
    "slideshow": {
     "slide_type": "slide"
    }
   },
   "source": [
    "<br>\n",
    "<hr class=\"top\">\n",
    "\n",
    "# NumPy  \n",
    "\n",
    "<hr class=\"bot\">\n",
    "\n",
    "<br>\n",
    "\n",
    "## Presenter: Adrian Jackson\n",
    "\n",
    "#### Contributing authors:\n",
    "\n",
    "#### Neelofer Bangawala, Arno Proeme, Kevin Stratford, Andy Turner, David Henty\n",
    "\n",
    "<br>\n",
    "<br>\n"
   ]
  },
  {
   "cell_type": "markdown",
   "metadata": {
    "slideshow": {
     "slide_type": "slide"
    }
   },
   "source": [
    "<br>\n",
    "<hr class=\"top\">\n",
    "\n",
    "## Introducing NumPy\n",
    "\n",
    "<hr class=\"bot\">\n",
    "\n",
    "<br>\n",
    "\n",
    "* NumPy (\"Numeric Python\") supports:\n",
    "\n",
    "  * Multidimensional arrays (`ndarray`)\n",
    "  * Matrices and linear algebra operations\n",
    "  * Random number generation\n",
    "  * Fourier transforms\n",
    "  * Polynomials\n",
    "  * Tools for integrating with Fortran/C (more about this later)\n",
    "  \n",
    "* NumPy provides fast precompiled functions for numerical routines\n",
    "\n",
    "\n",
    "* https://www.numpy.org/\n",
    "\n",
    "<br>\n",
    "<br>"
   ]
  },
  {
   "cell_type": "markdown",
   "metadata": {
    "slideshow": {
     "slide_type": "slide"
    }
   },
   "source": [
    "<hr class=\"top\">\n",
    "\n",
    "## NumPy Arrays\n",
    "\n",
    "<hr class=\"bot\">\n",
    "\n",
    "<br>\n",
    "\n",
    "* Standard Python Library provides lists and 1d arrays (array.array)\n",
    "\n",
    "  * Lists are general containers for objects\n",
    "  * Arrays are 1d containers for objects of the same type\n",
    "  * Limited functionality\n",
    "  * Some memory and performance overhead associated with these structures\n",
    "\n",
    "\n",
    "* NumPy provides multidimensional arrays (numpy.ndarray)\n",
    "  * Can store many elements of the same data type in multiple dimensions\n",
    "  * cf. Fortran/C/C++ arrays\n",
    "  * More functionality than core Python e.g. many conveninent methods for array manipulation\n",
    "  * Efficient storage and execution\n",
    "\n",
    "See, e.g.,\n",
    "* http://docs.scipy.org/doc/numpy-1.10.0/reference/generated/numpy.ndarray.html\n",
    "<br>\n",
    "<br>"
   ]
  },
  {
   "cell_type": "markdown",
   "metadata": {
    "slideshow": {
     "slide_type": "slide"
    }
   },
   "source": [
    "<br>\n",
    "<hr class=\"top\">\n",
    "\n",
    "## Creating 1d arrays\n",
    "\n",
    "<hr class=\"bot\">"
   ]
  },
  {
   "cell_type": "code",
   "execution_count": null,
   "metadata": {
    "slideshow": {
     "slide_type": "-"
    }
   },
   "outputs": [],
   "source": [
    "import numpy as np"
   ]
  },
  {
   "cell_type": "markdown",
   "metadata": {},
   "source": [
    "Many ways to create a 1d array e.g. from a list or a numpy array (\"copy constructor\")"
   ]
  },
  {
   "cell_type": "code",
   "execution_count": null,
   "metadata": {
    "slideshow": {
     "slide_type": "-"
    }
   },
   "outputs": [],
   "source": [
    "a = np.array( [-1, 0, 1] )\n",
    "b = np.array( a )\n",
    "print(a)\n",
    "print(b)"
   ]
  },
  {
   "cell_type": "markdown",
   "metadata": {},
   "source": [
    "All NumPy arrays are of type '`ndarray`'"
   ]
  },
  {
   "cell_type": "code",
   "execution_count": null,
   "metadata": {},
   "outputs": [],
   "source": [
    "type(b)"
   ]
  },
  {
   "cell_type": "markdown",
   "metadata": {
    "slideshow": {
     "slide_type": "subslide"
    }
   },
   "source": [
    "<br>\n",
    "<hr class=\"top\">\n",
    "\n",
    "## Creating 1d arrays (cont.)\n",
    "\n",
    "<hr class=\"bot\">\n",
    "<br>\n",
    "\n",
    "Can create arrays using `numpy` functions, e.g."
   ]
  },
  {
   "cell_type": "code",
   "execution_count": null,
   "metadata": {
    "slideshow": {
     "slide_type": "-"
    }
   },
   "outputs": [],
   "source": [
    "# arange for arrays (similar to range for lists)\n",
    "a = np.arange( -2, 6, 2 )\n",
    "print(a)"
   ]
  },
  {
   "cell_type": "code",
   "execution_count": null,
   "metadata": {
    "slideshow": {
     "slide_type": "-"
    }
   },
   "outputs": [],
   "source": [
    "# linspace to create sample step points in an interval\n",
    "a = np.linspace(-10, 10, 4) \n",
    "print(a)"
   ]
  },
  {
   "cell_type": "markdown",
   "metadata": {},
   "source": [
    "Can you guess what the following functions do?"
   ]
  },
  {
   "cell_type": "code",
   "execution_count": null,
   "metadata": {
    "slideshow": {
     "slide_type": "-"
    }
   },
   "outputs": [],
   "source": [
    "b = np.zeros(3)\n",
    "print(b)"
   ]
  },
  {
   "cell_type": "code",
   "execution_count": null,
   "metadata": {
    "slideshow": {
     "slide_type": "-"
    }
   },
   "outputs": [],
   "source": [
    "c = np.ones(5)\n",
    "print(c)"
   ]
  },
  {
   "cell_type": "markdown",
   "metadata": {
    "slideshow": {
     "slide_type": "slide"
    }
   },
   "source": [
    "<br>\n",
    "<hr class=\"top\">\n",
    "\n",
    "## Array attributes\n",
    "\n",
    "<hr class=\"bot\">\n",
    "\n",
    "<br>\n",
    "As part of the array structure, NumPy keeps track of metadata for the array as \"attributes\""
   ]
  },
  {
   "cell_type": "code",
   "execution_count": null,
   "metadata": {
    "slideshow": {
     "slide_type": "-"
    }
   },
   "outputs": [],
   "source": [
    "# Taking \"a\" from the previous example\n",
    "a = np.linspace(-10, 10, 5) "
   ]
  },
  {
   "cell_type": "code",
   "execution_count": null,
   "metadata": {
    "slideshow": {
     "slide_type": "-"
    }
   },
   "outputs": [],
   "source": [
    "# Examine key array attributes\n",
    "print(a)\n",
    "print(\"Dimensions \", a.ndim)\n",
    "print(\"Shape      \", a.shape)  # number of elements in each dim\n",
    "print(\"Size       \", a.size)   # total number of elements\n",
    "print(\"Data type  \", a.dtype)  # data type of element e.g. 32 bit float"
   ]
  },
  {
   "cell_type": "markdown",
   "metadata": {},
   "source": [
    "Can specify data type at creation"
   ]
  },
  {
   "cell_type": "code",
   "execution_count": null,
   "metadata": {
    "slideshow": {
     "slide_type": "-"
    }
   },
   "outputs": [],
   "source": [
    "a = np.array([1,2,3], np.float32)\n",
    "print(a)\n",
    "print(\"Data type\", a.dtype)"
   ]
  },
  {
   "cell_type": "markdown",
   "metadata": {
    "slideshow": {
     "slide_type": "slide"
    }
   },
   "source": [
    "<br>\n",
    "<hr class=\"top\">\n",
    "\n",
    "## Multi-dimensional arrays\n",
    "\n",
    "<hr class=\"bot\">\n",
    "<br>\n",
    "\n",
    "Many different ways to create N-dimensional arrays. A two-dimensional array or matrix can be created from, e.g., list of lists"
   ]
  },
  {
   "cell_type": "code",
   "execution_count": null,
   "metadata": {
    "slideshow": {
     "slide_type": "-"
    }
   },
   "outputs": [],
   "source": [
    "mat = np.array( [[1,2,3], [4,5,6]] )\n",
    "print(mat)\n",
    "print(\"Dimensions: \", mat.ndim)\n",
    "print(\"Size:       \", mat.size)\n",
    "print(\"Shape:      \", mat.shape)"
   ]
  },
  {
   "cell_type": "markdown",
   "metadata": {},
   "source": [
    "Work out the shape of the resulting arrays before executing the following cells <br>\n",
    "(HINT: length of the innermost list gives the size of the rightmost shape index)"
   ]
  },
  {
   "cell_type": "code",
   "execution_count": null,
   "metadata": {
    "slideshow": {
     "slide_type": "-"
    }
   },
   "outputs": [],
   "source": [
    "i = np.array( [[1,1,1], [2,2,2], [3,3,3], [4,4,4]] ) \n",
    "print(\"i\", i.shape)"
   ]
  },
  {
   "cell_type": "code",
   "execution_count": null,
   "metadata": {
    "slideshow": {
     "slide_type": "-"
    }
   },
   "outputs": [],
   "source": [
    "j = np.array( [[[1,1],[2,2],[3,3],[4,4]],\n",
    "               [[1,1],[2,2],[3,3],[4,4]],\n",
    "               [[1,1],[2,2],[3,3],[4,4]]] )\n",
    "print(\"j\", j.shape)"
   ]
  },
  {
   "cell_type": "markdown",
   "metadata": {},
   "source": [
    "Can create 2d arrays with complex elements by specifying the data type"
   ]
  },
  {
   "cell_type": "code",
   "execution_count": null,
   "metadata": {
    "slideshow": {
     "slide_type": "-"
    }
   },
   "outputs": [],
   "source": [
    "alist = [[1, 2, 3], [4, 5, 6]]\n",
    "mat = np.array(alist, complex)\n",
    "print(mat)"
   ]
  },
  {
   "cell_type": "markdown",
   "metadata": {
    "slideshow": {
     "slide_type": "slide"
    }
   },
   "source": [
    "<br>\n",
    "<hr class=\"top\">\n",
    "\n",
    "## Accessing arrays\n",
    "\n",
    "<hr class=\"bot\">\n",
    "\n",
    "<br>\n",
    "\n",
    "Basic indexing and slicing can be used to access array elements, as we know from lists"
   ]
  },
  {
   "cell_type": "code",
   "execution_count": null,
   "metadata": {
    "scrolled": true,
    "slideshow": {
     "slide_type": "-"
    }
   },
   "outputs": [],
   "source": [
    "# a[start:stop:stride] (not inclusive of stop)\n",
    "import numpy as np\n",
    "a = np.arange(8)\n",
    "print(\"a\", a)\n",
    "print(\"a[0:7:2]\", a[0:7:2])\n",
    "print(\"a[0::2]\", a[0::2])"
   ]
  },
  {
   "cell_type": "markdown",
   "metadata": {},
   "source": [
    "Negative indices are valid!"
   ]
  },
  {
   "cell_type": "code",
   "execution_count": null,
   "metadata": {},
   "outputs": [],
   "source": [
    "# Useful for accessing the last element\n",
    "print(a[-3])"
   ]
  },
  {
   "cell_type": "markdown",
   "metadata": {},
   "source": [
    "Can you guess the output of the following cells?"
   ]
  },
  {
   "cell_type": "code",
   "execution_count": null,
   "metadata": {
    "slideshow": {
     "slide_type": "-"
    }
   },
   "outputs": [],
   "source": [
    "print(a[2:-3:2])"
   ]
  },
  {
   "cell_type": "code",
   "execution_count": null,
   "metadata": {},
   "outputs": [],
   "source": [
    "print(a[::-2])"
   ]
  },
  {
   "cell_type": "markdown",
   "metadata": {
    "slideshow": {
     "slide_type": "slide"
    }
   },
   "source": [
    "<br>\n",
    "<hr class=\"top\">\n",
    "\n",
    "## Vectorization\n",
    "\n",
    "<hr class=\"bot\">\n",
    "<br>\n",
    "\n",
    "Vectorization allows element-wise operations (no loops!). What output do the following cells give?"
   ]
  },
  {
   "cell_type": "code",
   "execution_count": null,
   "metadata": {
    "slideshow": {
     "slide_type": "-"
    }
   },
   "outputs": [],
   "source": [
    "a = np.arange(10).reshape([2,5])\n",
    "b = np.arange(10).reshape([2,5])\n",
    "print(a)"
   ]
  },
  {
   "cell_type": "code",
   "execution_count": null,
   "metadata": {
    "slideshow": {
     "slide_type": "-"
    }
   },
   "outputs": [],
   "source": [
    "# Try these\n",
    "print(a)\n",
    "-0.1*a"
   ]
  },
  {
   "cell_type": "code",
   "execution_count": null,
   "metadata": {
    "slideshow": {
     "slide_type": "-"
    }
   },
   "outputs": [],
   "source": [
    "# This is NOT matrix multiplication!\n",
    "print(b)\n",
    "a*b"
   ]
  },
  {
   "cell_type": "code",
   "execution_count": null,
   "metadata": {},
   "outputs": [],
   "source": [
    "# Use dot product for vector/matrix multiplication\n",
    "# Note: .T gives you transpose of matrix i.e. it reshapes it\n",
    "a.dot(b.T)"
   ]
  },
  {
   "cell_type": "markdown",
   "metadata": {},
   "source": [
    "For the traffic model, we will make use of simple array syntax operations such as"
   ]
  },
  {
   "cell_type": "code",
   "execution_count": null,
   "metadata": {},
   "outputs": [],
   "source": [
    "a = np.arange(8)\n",
    "a[:] = a[:] + 10\n",
    "print(a)\n",
    "a[1:7] = 0\n",
    "print(a)"
   ]
  },
  {
   "cell_type": "markdown",
   "metadata": {},
   "source": [
    "Summation"
   ]
  },
  {
   "cell_type": "code",
   "execution_count": null,
   "metadata": {
    "scrolled": true
   },
   "outputs": [],
   "source": [
    "a = np.arange(8)\n",
    "print(a)\n",
    "asum = np.sum(a)\n",
    "print(asum)"
   ]
  },
  {
   "cell_type": "markdown",
   "metadata": {},
   "source": [
    "Conditionals"
   ]
  },
  {
   "cell_type": "code",
   "execution_count": null,
   "metadata": {},
   "outputs": [],
   "source": [
    "# Loop-based version\n",
    "a = np.arange(8)\n",
    "b = a\n",
    "\n",
    "for i in range(0,len(a)):\n",
    "    if (a[i] % 2 == 0): #even numbers\n",
    "        b[i] = a[i]\n",
    "    else:\n",
    "        b[i] = 10*a[i] # odd numbers\n",
    "print(b)"
   ]
  },
  {
   "cell_type": "code",
   "execution_count": null,
   "metadata": {},
   "outputs": [],
   "source": [
    "# Vector version\n",
    "a = np.arange(8)\n",
    "\n",
    "b = np.where(a % 2 == 0, a, 10*a)\n",
    "print(b)"
   ]
  },
  {
   "cell_type": "markdown",
   "metadata": {},
   "source": [
    "Random numbers"
   ]
  },
  {
   "cell_type": "code",
   "execution_count": null,
   "metadata": {},
   "outputs": [],
   "source": [
    "seedval = 1234  # ensure we can reproduce the initialisation!\n",
    "np.random.seed(seedval)\n",
    "rng = np.random.random(8) # in the range 0.0 to 1.0\n",
    "print(rng)"
   ]
  },
  {
   "cell_type": "markdown",
   "metadata": {
    "slideshow": {
     "slide_type": "subslide"
    }
   },
   "source": [
    "<br>\n",
    "<hr class=\"top'\">\n",
    "\n",
    "## Accessing arrays (cont.)\n",
    "\n",
    "<hr class=\"bot\">\n",
    "<br>\n",
    "For multi-dimensional arrays, can use a tuples or index notation."
   ]
  },
  {
   "cell_type": "code",
   "execution_count": null,
   "metadata": {
    "slideshow": {
     "slide_type": "-"
    }
   },
   "outputs": [],
   "source": [
    "# Basic indexing of a 3d array\n",
    "c = np.array([[[1,2],[3,4]],[[5,6],[7,8]]])\n",
    "print(c.shape)\n",
    "# using subscripts\n",
    "print(\"c[1][0][1]:\", c[1][0][1])\n",
    "# using a tuple\n",
    "print(\"c[(1,0,1)]:\", c[1,0,1])\n",
    "# the whole thing\n",
    "print(c)"
   ]
  },
  {
   "cell_type": "markdown",
   "metadata": {},
   "source": [
    "If the number of indices given is less than the number of axes, missing axes are taken as complete slices"
   ]
  },
  {
   "cell_type": "code",
   "execution_count": null,
   "metadata": {
    "slideshow": {
     "slide_type": "-"
    }
   },
   "outputs": [],
   "source": [
    "print(c[1])\n",
    "print(c[1,0,...]) # can also use elipsis (3 dots)\n",
    "                  # for missing indices   \n",
    "print(c[1,0,1]) "
   ]
  },
  {
   "cell_type": "markdown",
   "metadata": {
    "slideshow": {
     "slide_type": "subslide"
    }
   },
   "source": [
    "<br>\n",
    "<hr class=\"top\">\n",
    "\n",
    "## Array copies\n",
    "\n",
    "<hr class=\"bot\">\n",
    "\n",
    "<br>\n",
    "Simple assignment creates references or 'shallow' copies of arrays"
   ]
  },
  {
   "cell_type": "code",
   "execution_count": null,
   "metadata": {
    "slideshow": {
     "slide_type": "-"
    }
   },
   "outputs": [],
   "source": [
    "a = np.array( [-2,6,2] )\n",
    "print(\"a\", a)\n",
    "b = a\n",
    "a[0] = 20\n",
    "print(\"b points to a!\", b)"
   ]
  },
  {
   "cell_type": "markdown",
   "metadata": {},
   "source": [
    "Can query the \"identity\" of variables with function `id()`"
   ]
  },
  {
   "cell_type": "code",
   "execution_count": null,
   "metadata": {},
   "outputs": [],
   "source": [
    "print(id(a))\n",
    "print(id(b)) # same as a"
   ]
  },
  {
   "cell_type": "markdown",
   "metadata": {},
   "source": [
    "Use `copy()` to create a true or 'deep' copy"
   ]
  },
  {
   "cell_type": "code",
   "execution_count": null,
   "metadata": {},
   "outputs": [],
   "source": [
    "c = a.copy()\n",
    "print(a)\n",
    "print(id(c)) # not the same as a"
   ]
  },
  {
   "cell_type": "code",
   "execution_count": null,
   "metadata": {},
   "outputs": [],
   "source": [
    "# check c really is an independent copy of a\n",
    "c[0]=0\n",
    "print(\"c changes\", c)\n",
    "print(\"a unaffected\", a)"
   ]
  },
  {
   "cell_type": "markdown",
   "metadata": {
    "slideshow": {
     "slide_type": "subslide"
    }
   },
   "source": [
    "<br>\n",
    "<hr class=\"top\">\n",
    "\n",
    "## Slices and views\n",
    "\n",
    "<hr class=\"bot\">\n",
    "<br>\n",
    "A \"view\" is an array that refers to another array’s data (like references). You can create a view on an array by selecting a slice of an array. No data is copied when a view is created. "
   ]
  },
  {
   "cell_type": "code",
   "execution_count": null,
   "metadata": {},
   "outputs": [],
   "source": [
    "a = np.array([[1,2,3],[4,5,6],[7,8,9]]) \n",
    "print(a)"
   ]
  },
  {
   "cell_type": "code",
   "execution_count": null,
   "metadata": {
    "slideshow": {
     "slide_type": "-"
    }
   },
   "outputs": [],
   "source": [
    "# Can assign a slice to a variable and change the\n",
    "# array referred to by the slice\n",
    "s = a[2:3, 1:3]\n",
    "print(s)\n",
    "s[:,:] = -2\n",
    "print(\"s\", s)\n",
    "print(\"a\", a)"
   ]
  },
  {
   "cell_type": "markdown",
   "metadata": {},
   "source": [
    "Change all the elements with values 7,8,10,11 in matrix `m` below (i.e. bottom right corner elements) to 1000 using a slice"
   ]
  },
  {
   "cell_type": "code",
   "execution_count": null,
   "metadata": {
    "slideshow": {
     "slide_type": "-"
    }
   },
   "outputs": [],
   "source": [
    "m = np.array([[0,1,2],[3,4,5],[6,7,8],[9,10,11]])\n",
    "print(m)"
   ]
  },
  {
   "cell_type": "markdown",
   "metadata": {
    "slideshow": {
     "slide_type": "slide"
    }
   },
   "source": [
    "<br>\n",
    "<hr class=\"top\">\n",
    "\n",
    "## Reshaping arrays\n",
    "\n",
    "<hr class=\"bot\">\n",
    "<br>\n",
    "\n",
    "Can modify the shape of an array and/or change its size."
   ]
  },
  {
   "cell_type": "code",
   "execution_count": null,
   "metadata": {
    "slideshow": {
     "slide_type": "-"
    }
   },
   "outputs": [],
   "source": [
    "a = np.arange(6)\n",
    "print(\"a\", a, \", shape:\", a.shape)\n",
    "# modifying the shape attribute (not a copy)\n",
    "# requires that the size remains the same\n",
    "a.shape = (3,2)\n",
    "print(a)"
   ]
  },
  {
   "cell_type": "code",
   "execution_count": null,
   "metadata": {
    "slideshow": {
     "slide_type": "-"
    }
   },
   "outputs": [],
   "source": [
    "# Or can alter the size and shape of the array with\n",
    "# resize(). May copy/pad depending on shape.\n",
    "mat = np.arange(6)\n",
    "print(mat)\n",
    "mat1 = np.resize(mat, (3, 2))\n",
    "print(mat1)"
   ]
  },
  {
   "cell_type": "code",
   "execution_count": null,
   "metadata": {},
   "outputs": [],
   "source": [
    "a.shape(5,2)\n",
    "print(a)"
   ]
  },
  {
   "cell_type": "code",
   "execution_count": null,
   "metadata": {},
   "outputs": [],
   "source": [
    "mat2=np.resize(mat,(5,2))\n",
    "print(mat2)"
   ]
  },
  {
   "cell_type": "markdown",
   "metadata": {},
   "source": [
    "Can check if arrays share the same data (i.e. not a copy) using `base`"
   ]
  },
  {
   "cell_type": "code",
   "execution_count": null,
   "metadata": {},
   "outputs": [],
   "source": [
    "mat1.base is mat # can also check this using id()"
   ]
  },
  {
   "cell_type": "markdown",
   "metadata": {},
   "source": [
    "What does the `reshape()` method do?"
   ]
  },
  {
   "cell_type": "markdown",
   "metadata": {
    "slideshow": {
     "slide_type": "subslide"
    }
   },
   "source": [
    "<br>\n",
    "<hr class=\"top\">\n",
    "\n",
    "## Manipulating arrays\n",
    "\n",
    "<hr class=\"bot\">\n",
    "<br>\n",
    "\n",
    "There are many methods for manipulating arrays (reshaping, joining, splitting, inserting, ...). Check the documentation.\n",
    "\n",
    "E.g.,\n",
    "```python\n",
    "concatenate((a1,a2),axis=0)\n",
    "split(a, indices_or_sections, axis=0)\n",
    "flatten\n",
    "ravel(a)\n",
    "stack(arrays[, axis])\n",
    "tile(a, reps)\n",
    "repeat(a, repeats[, axis])\n",
    "unique(ar[, return_index, return_inverse, ...])\n",
    "trim_zeros(filt[, trim])\n",
    "fill(scalar)\n",
    "xv, yv = meshgrid(x,y)\n",
    "```"
   ]
  },
  {
   "cell_type": "markdown",
   "metadata": {
    "slideshow": {
     "slide_type": "-"
    }
   },
   "source": [
    " See what arrays you can create from some of the functions listed above."
   ]
  },
  {
   "cell_type": "markdown",
   "metadata": {
    "slideshow": {
     "slide_type": "subslide"
    }
   },
   "source": [
    "<br>\n",
    "<hr class=\"top\">\n",
    "\n",
    "## Fancy indexing\n",
    "\n",
    "<hr class=\"bot\">\n",
    "\n",
    "<br>\n",
    "Advanced or fancy indexing lets you do more than simple indexing.\n"
   ]
  },
  {
   "cell_type": "code",
   "execution_count": null,
   "metadata": {
    "slideshow": {
     "slide_type": "-"
    }
   },
   "outputs": [],
   "source": [
    "p = np.array([[0, 1, 2],[3, 4, 5],\n",
    "              [6, 7, 8],[9, 10, 11]]) \n",
    "print(p)"
   ]
  },
  {
   "cell_type": "code",
   "execution_count": null,
   "metadata": {
    "slideshow": {
     "slide_type": "-"
    }
   },
   "outputs": [],
   "source": [
    "rows = [0,0,3,3]   # indices for rows\n",
    "cols = [0,2,0,2]   # indices for columns\n",
    "q=p[rows,cols]\n",
    "print(q)"
   ]
  },
  {
   "cell_type": "markdown",
   "metadata": {},
   "source": [
    "Fancy indexing returns a copy (not a view like slicing)"
   ]
  },
  {
   "cell_type": "code",
   "execution_count": null,
   "metadata": {},
   "outputs": [],
   "source": [
    "# ... check if a is a view or a copy\n",
    "q[0]=1000\n",
    "print(q)\n",
    "print(p)"
   ]
  },
  {
   "cell_type": "markdown",
   "metadata": {},
   "source": [
    "Use `base` or `id()` to check whether `q` is a copy. Do the same for a simple indexed slice of `p` (e.g. `p[1:2,3:4]`)"
   ]
  },
  {
   "cell_type": "markdown",
   "metadata": {},
   "source": [
    "Can use logical expressions and boolean 'masks' to find indices of elements of interest e.g."
   ]
  },
  {
   "cell_type": "code",
   "execution_count": null,
   "metadata": {
    "slideshow": {
     "slide_type": "-"
    }
   },
   "outputs": [],
   "source": [
    "# Find indices of elements with value less than zero\n",
    "m = np.array( [[0,-1,4,20,99],[-3,-5,6,7,-10]] )\n",
    "print(m)\n",
    "print(m[ m < 0 ])"
   ]
  },
  {
   "cell_type": "markdown",
   "metadata": {},
   "source": [
    "Can you guess what the following code will output?"
   ]
  },
  {
   "cell_type": "code",
   "execution_count": null,
   "metadata": {
    "slideshow": {
     "slide_type": "-"
    }
   },
   "outputs": [],
   "source": [
    "a = np.arange(10)\n",
    "print(a)\n",
    "mask = np.ones(len(a), dtype=bool)\n",
    "print(mask)\n",
    "mask[[0,2,4]] = False  # set values to False\n",
    "print(mask)\n",
    "result = a[mask]\n",
    "print(result)"
   ]
  },
  {
   "cell_type": "markdown",
   "metadata": {
    "slideshow": {
     "slide_type": "subslide"
    }
   },
   "source": [
    "<br>\n",
    "<hr class=\"top\">\n",
    "\n",
    "## Random number generation\n",
    "\n",
    "<hr class=\"bot\">\n",
    "\n",
    "<br>\n",
    "NumPy provides utilities for random number generation"
   ]
  },
  {
   "cell_type": "code",
   "execution_count": null,
   "metadata": {
    "slideshow": {
     "slide_type": "-"
    }
   },
   "outputs": [],
   "source": [
    "# Create an array of 10 random real numbers\n",
    "a = np.random.ranf(10)\n",
    "print(a)"
   ]
  },
  {
   "cell_type": "code",
   "execution_count": null,
   "metadata": {},
   "outputs": [],
   "source": [
    "np.random.randint?"
   ]
  },
  {
   "cell_type": "code",
   "execution_count": null,
   "metadata": {
    "slideshow": {
     "slide_type": "-"
    }
   },
   "outputs": [],
   "source": [
    "# Create a 2d array (5x5) reshaped matrix from a 1d array of (25) \n",
    "# random ints between 0 and 5 (not inclusive)\n",
    "a = np.random.randint(0, high=5, size=25).reshape(5,5)   \n",
    "print(a)"
   ]
  },
  {
   "cell_type": "code",
   "execution_count": null,
   "metadata": {
    "slideshow": {
     "slide_type": "-"
    }
   },
   "outputs": [],
   "source": [
    "# Generate sample from normal distribution\n",
    "# (default: mean=0, standard deviation=1)\n",
    "s = np.random.standard_normal((2,2))\n",
    "print(s)"
   ]
  },
  {
   "cell_type": "markdown",
   "metadata": {
    "slideshow": {
     "slide_type": "-"
    }
   },
   "source": [
    "Explore other ways of generating random numbers. \n",
    "What other distributions can you sample? "
   ]
  },
  {
   "cell_type": "markdown",
   "metadata": {},
   "source": [
    " Advanced: if seeding multiple processes, consider `numpy.random.RandomState`"
   ]
  },
  {
   "cell_type": "markdown",
   "metadata": {},
   "source": [
    " "
   ]
  },
  {
   "cell_type": "markdown",
   "metadata": {
    "slideshow": {
     "slide_type": "slide"
    }
   },
   "source": [
    "<br>\n",
    "<hr class=\"top\">\n",
    "\n",
    "## File operations\n",
    "\n",
    "<hr class=\"bot\">\n",
    "<br>\n",
    "NumPy provides an easy way to save data to text file"
   ]
  },
  {
   "cell_type": "code",
   "execution_count": null,
   "metadata": {
    "slideshow": {
     "slide_type": "-"
    }
   },
   "outputs": [],
   "source": [
    "# Generate an array of 5 random real numbers\n",
    "pts = 5\n",
    "x = np.arange(pts)\n",
    "y = np.random.random(pts)\n",
    "print(x)\n",
    "print(y)"
   ]
  },
  {
   "cell_type": "code",
   "execution_count": null,
   "metadata": {},
   "outputs": [],
   "source": [
    "print(np.stack((x,y),axis=1)) # stacking arrays along an axis"
   ]
  },
  {
   "cell_type": "code",
   "execution_count": null,
   "metadata": {},
   "outputs": [],
   "source": [
    "# data format specifiers:\n",
    "# d = int, f = float, e = exponential\n",
    "np.savetxt('savedata.txt', np.stack((x,y),axis=1), \\\n",
    "           header='DATA', \\\n",
    "           footer='END', fmt='%d %1.4f')"
   ]
  },
  {
   "cell_type": "code",
   "execution_count": null,
   "metadata": {},
   "outputs": [],
   "source": [
    "!cat savedata.txt"
   ]
  },
  {
   "cell_type": "code",
   "execution_count": null,
   "metadata": {
    "slideshow": {
     "slide_type": "-"
    }
   },
   "outputs": [],
   "source": [
    "# Reload data to an array\n",
    "p = np.loadtxt('savedata.txt')\n",
    "print(p)"
   ]
  },
  {
   "cell_type": "markdown",
   "metadata": {},
   "source": [
    "More flexibility with `genfromtext()`  (query `?np.genfromtext`)"
   ]
  },
  {
   "cell_type": "code",
   "execution_count": null,
   "metadata": {
    "slideshow": {
     "slide_type": "-"
    }
   },
   "outputs": [],
   "source": [
    "p = np.genfromtxt('savedata.txt', skip_header=2,\n",
    "                  skip_footer=1)\n",
    "print(p)"
   ]
  },
  {
   "cell_type": "markdown",
   "metadata": {
    "slideshow": {
     "slide_type": "-"
    }
   },
   "source": [
    "What do `numpy.save()` and `numpy.load()` do ?"
   ]
  },
  {
   "cell_type": "markdown",
   "metadata": {},
   "source": [
    " "
   ]
  },
  {
   "cell_type": "markdown",
   "metadata": {
    "slideshow": {
     "slide_type": "slide"
    }
   },
   "source": [
    "<br>\n",
    "<hr class=\"top\">\n",
    "\n",
    "## Performance\n",
    "\n",
    "<hr class=\"bot\">\n",
    "<br>\n",
    "\n",
    "Python has a convenient timing function called `timeit`.\n",
    "\n",
    "Can use this to measure the execution time of small code snippets.\n",
    "\n",
    "* From python: `import timeit` and supply code  snippet as a string\n",
    "* From ipython: can use magic command `%timeit`\n",
    "\n",
    "By default, `%timeit` repeats calling the timeit function 3 times and outputs the best time. It also tells you how many iterations it ran the code per repeat. \n",
    "You can specify the number of repeats and the number of iterations per repeat.\n",
    "```\n",
    "%timeit -n <iterations> -r <repeats>  <code_snippet>\n",
    "```\n",
    "\n",
    "See\n",
    "\n",
    "* `%timeit?` for more information\n",
    "* https://docs.python.org/3/library/timeit.html\n"
   ]
  },
  {
   "cell_type": "markdown",
   "metadata": {
    "slideshow": {
     "slide_type": "subslide"
    }
   },
   "source": [
    "<br>\n",
    "<hr class=\"top\">\n",
    "\n",
    "## Performance (cont.)\n",
    "\n",
    "<hr class=\"bot\">\n",
    "<br>\n",
    "\n",
    "Here are some `timeit` experiments for you to try. Which methods are faster? (Note the kernel symbol is a filled circle when the kernel is busy.)\n"
   ]
  },
  {
   "cell_type": "code",
   "execution_count": null,
   "metadata": {
    "slideshow": {
     "slide_type": "-"
    }
   },
   "outputs": [],
   "source": [
    "# Accessing a 2d array\n",
    "nd = np.arange(100).reshape((10,10))\n",
    "\n",
    "# accessing element of 2d array\n",
    "%timeit -n 10000000 -r 3 nd[5][5]\n",
    "%timeit -n 10000000 -r 3 nd[5,5]"
   ]
  },
  {
   "cell_type": "markdown",
   "metadata": {},
   "source": [
    "#### Note\n",
    "If you want to use a python script, have a look at the following example."
   ]
  },
  {
   "cell_type": "code",
   "execution_count": null,
   "metadata": {},
   "outputs": [],
   "source": [
    "# %load example.py\n",
    "\"\"\"Example of timeit from python script\"\"\"\n",
    "\n",
    "import timeit\n",
    "\n",
    "def main():\n",
    "\n",
    "    # code to be executed as setup (must include import statement)\n",
    "    init = \"import numpy; nd = numpy.arange(100).reshape((10,10))\"\n",
    "\n",
    "    t = timeit.Timer(stmt= \"nd[5][5]\", setup= init)\n",
    "    print(t.repeat(repeat= 3, number= 10000000))\n",
    "\n",
    "    t = timeit.Timer(stmt= \"nd[5,5]\", setup= init)\n",
    "    print(t.repeat(repeat = 3, number= 10000000))\n",
    "\n",
    "if __name__ == \"__main__\":\n",
    "\n",
    "    main()\n"
   ]
  },
  {
   "cell_type": "markdown",
   "metadata": {},
   "source": [
    "\n",
    "<hr class=\"top\">\n",
    "\n",
    "## Performance (cont.)\n",
    "\n",
    "<hr class=\"bot\">"
   ]
  },
  {
   "cell_type": "code",
   "execution_count": null,
   "metadata": {
    "slideshow": {
     "slide_type": "-"
    }
   },
   "outputs": [],
   "source": [
    "# Multiplying two vectors\n",
    "\n",
    "x = np.arange(1.0e7)\n",
    "%timeit -n 30 -r 3 x*x\n",
    "%timeit -n 30 -r 3 x**2\n"
   ]
  },
  {
   "cell_type": "code",
   "execution_count": null,
   "metadata": {
    "slideshow": {
     "slide_type": "-"
    }
   },
   "outputs": [],
   "source": [
    "# Comparing range functions and iterating in loops\n",
    "# Note: some distributions may see overflow\n",
    "#       in xrange() example\n",
    "\n",
    "size = 1000000\n",
    "\n",
    "%timeit for x in range(size): x**2\n",
    "\n",
    "%timeit for np.arange(size): x*x in *2\n",
    "\n",
    "# vectorization can be faster \n",
    "%timeit np.arange(size)**2"
   ]
  },
  {
   "cell_type": "code",
   "execution_count": null,
   "metadata": {},
   "outputs": [],
   "source": []
  },
  {
   "cell_type": "code",
   "execution_count": null,
   "metadata": {},
   "outputs": [],
   "source": [
    "# Extra : from the linear algebra package\n",
    "%timeit -n 3 -r 10 np.dot(x,x)"
   ]
  },
  {
   "cell_type": "markdown",
   "metadata": {
    "slideshow": {
     "slide_type": "slide"
    }
   },
   "source": [
    "<br>\n",
    "<hr class=\"top\">\n",
    "\n",
    "## Exercise : Darts and calculating $\\pi$\n",
    "\n",
    "<hr class=\"bot\">\n",
    "\n",
    "<br>\n",
    "\n",
    "### A Monte Carlo method (aka \"throwing darts\")\n",
    "\n",
    "Geometry gives us an expression for $\\pi$: the area of a circle radius $r$ divided by the area of a square with length $r$:\n",
    "\n",
    "$$\n",
    "\\pi = A / r^2\n",
    "$$\n",
    "\n",
    "We can estimate the area of a circle and a square by throwing darts. If $N_{in}$ is the number of darts falling on the dart board (quarter circle), and $N_{tot}$ is the total number of trials (i.e. darts falling on the square):\n",
    "\n",
    "<img src=\"darts.png\" style=\"float: right; width: 25%; margin-right: 15%; margin-top: 0%; margin-bottom: 1%\">  <br>\n",
    "\n",
    "$$\n",
    "\\pi \\approx 4 N_{in} / N_{tot}\n",
    "$$\n",
    "\n",
    "Try using numpy arrays to compute the following:\n",
    "1. Choose a sample size `ntot`\n",
    "2. Generate an array of random $x$ coordinates $0 \\leq x < 1$.\n",
    "3. Generate an array of random $y$ coordinates $0 \\leq y < 1$.\n",
    "4. Count the number for which $x^2 + y^2 < 1$\n",
    "5. Compute appromination to $\\pi$\n",
    "\n",
    "<br>"
   ]
  },
  {
   "cell_type": "code",
   "execution_count": null,
   "metadata": {},
   "outputs": [],
   "source": [
    "# %load darts.py\n",
    "\"\"\" Calculate an approximation to pi via Monte Carlo \"darts\" method\"\"\"\n",
    "\n",
    "import numpy as np\n",
    "import timeit\n",
    "\n",
    "def calc_pi(ntot):\n",
    "    x = np.random.ranf(ntot)\n",
    "    y = np.random.ranf(ntot)\n",
    "    r = np.sqrt(x*x + y*y)\n",
    "    c = r[ r <= 1.0 ]\n",
    "    return 4.0*float((c.size))/float(ntot)\n",
    "\n",
    "\n",
    "def main():\n",
    "    \"\"\"Time result for a number of sample sizes (log spacing)\"\"\"\n",
    "\n",
    "    pts = 6\n",
    "    ntots = np.logspace(1, 8, num = pts, dtype = np.int)\n",
    "\n",
    "    for n in ntots:\n",
    "\n",
    "        t = timeit.timeit(stmt = \"darts.calc_pi(x)\",\n",
    "                          setup = \"import darts; x =\" +  str(n),\n",
    "                          number = 1)\n",
    "        print(\"{:9d} {:6.4e} {:10.8f}\".format(n, t, calc_pi(n)))\n",
    "\n",
    "\n",
    "if __name__ == \"__main__\":\n",
    "    main()\n"
   ]
  },
  {
   "cell_type": "markdown",
   "metadata": {
    "slideshow": {
     "slide_type": "slide"
    }
   },
   "source": [
    "<br>\n",
    "<hr class=\"top\">\n",
    "## Solution : Darts \n",
    "<hr class=\"bot\">\n",
    "\n",
    "<br>"
   ]
  },
  {
   "cell_type": "code",
   "execution_count": null,
   "metadata": {
    "slideshow": {
     "slide_type": "-"
    }
   },
   "outputs": [],
   "source": [
    "# Execute this cell to see a solution \n",
    "%load darts.py"
   ]
  },
  {
   "cell_type": "code",
   "execution_count": null,
   "metadata": {},
   "outputs": [],
   "source": [
    "# or execute this cell to run the script\n",
    "%run darts.py"
   ]
  },
  {
   "cell_type": "markdown",
   "metadata": {},
   "source": [
    " "
   ]
  },
  {
   "cell_type": "markdown",
   "metadata": {
    "slideshow": {
     "slide_type": "slide"
    }
   },
   "source": [
    "<br>\n",
    "<hr class=\"top\">\n",
    "\n",
    "## Summary\n",
    "\n",
    "<hr class=\"bot\">\n",
    "<br>\n",
    "\n",
    "* Numpy introduces multi-dimensional arrays to Python\n",
    "\n",
    "\n",
    "* It also provides fast numerical routines convenient for scientific computation\n",
    "\n",
    "<br>\n",
    "\n",
    "* Next: Matplotlib\n",
    "\n",
    "<br>"
   ]
  },
  {
   "cell_type": "markdown",
   "metadata": {
    "slideshow": {
     "slide_type": "subslide"
    }
   },
   "source": [
    "<br>\n",
    "<hr class=\"top\">\n",
    "\n",
    "## Extra : Polynomials and calculating $\\pi$ (again)\n",
    "\n",
    "<hr class=\"bot\">\n",
    "<br>\n",
    "\n",
    "The Taylor series expansion for the trigonometric function $\\arctan(y)$ is :\n",
    "\n",
    "$$\\arctan ( y) \\, = \\,y - \\frac{y^3}{3} + \\frac{y^5}{5}  - \\frac{y^7}{7}  + \\dots $$\n",
    "\n",
    "Now, $\\arctan(1) = \\pi/4 $, so\n",
    "\n",
    "$$ \\pi = 4 \\, \\Big( 1- \\frac{1}{3} + \\frac{1}{5} - \\frac{1}{7} + ... \\Big) $$\n",
    "\n",
    "We can represent the series expansion using a numpy `Polynomial`, with coefficients:\n",
    "\n",
    "$$0, +1, 0, -1/3, 0, +1/5, 0, -1/7,\\ldots\\,$$ and use it to approximate $\\pi$.\n"
   ]
  },
  {
   "cell_type": "markdown",
   "metadata": {
    "slideshow": {
     "slide_type": "slide"
    }
   },
   "source": [
    "<br>\n",
    "<hr class=\"top\">\n",
    "\n",
    "## Extra : Polynomials and calculating $\\pi$ (cont.)\n",
    "\n",
    "<hr class=\"bot\">\n",
    "<br>\n",
    "\n",
    "Can represent polynomials with the numpy class `Polynomial` from `numpy.polynomial.Polynomial`\n",
    "\n",
    "\n",
    "* `Polynomial([a, b, c, d, e])` creates a polynomial  $p(x) = a\\,+\\,b\\,x \\,+\\,c\\,x^2\\,+\\,d\\,x^3\\,+\\,e\\,x^4$.\n",
    "\n",
    "For example:\n",
    "\n",
    "* `Polynomial([1,2,3])` creates $p(x) = 1\\,+\\,2\\,x \\,+\\,3\\,x^2$\n",
    "  \n",
    "* `Polynomial([0,1,0,2,0,3])` creates $p(x) = x \\,+\\,2\\,x^3\\,+\\,3\\,x^5 $</p>\n",
    "  \n",
    "Can carry out arithmetic operations on polynomials, as well integrate and differentiate them.\n",
    "\n",
    "Can also use the `polynomial` package to find a least-squares fit to data."
   ]
  },
  {
   "cell_type": "markdown",
   "metadata": {
    "slideshow": {
     "slide_type": "subslide"
    }
   },
   "source": [
    "<br>\n",
    "<hr class=\"top\">\n",
    "\n",
    "## Extra : Solution : Polynomials\n",
    "\n",
    "<hr class=\"bot\">\n",
    "<br>"
   ]
  },
  {
   "cell_type": "code",
   "execution_count": null,
   "metadata": {
    "slideshow": {
     "slide_type": "-"
    }
   },
   "outputs": [],
   "source": [
    "# Calculate pi using polynomials\n",
    "\n",
    "# import Polynomial class with an alias for\n",
    "# convenience\n",
    "from numpy.polynomial import Polynomial as poly\n",
    "\n",
    "# set up coefficents \n",
    "num_of_coeffs = 100000\n",
    "\n",
    "# create denominators for coefficients\n",
    "denominator = np.arange(num_of_coeffs)\n",
    "\n",
    "# make every other odd coefficient negative\n",
    "denominator[3::4] *= -1\n",
    "\n",
    "# create numerators for coefficients\n",
    "numerator = np.ones(denominator.size) \n",
    "\n",
    "# avoid dividing by zero by removing the\n",
    "# first element in the denominator\n",
    "coeffs_tmp = numerator[1:]/denominator[1:]\n",
    "\n",
    "# make all even coefficients zero\n",
    "coeffs_tmp[1::2] = 0\n",
    "\n",
    "# add back zeroth coefficient\n",
    "coeffs = np.concatenate(([0], coeffs_tmp),axis=0) \n",
    "\n",
    "# create polynomial\n",
    "arctanpoly = poly(coeffs)\n",
    "\n",
    "# set p(1) to find pi\n",
    "print(4*arctanpoly(1))"
   ]
  },
  {
   "cell_type": "code",
   "execution_count": null,
   "metadata": {},
   "outputs": [],
   "source": []
  }
 ],
 "metadata": {
  "anaconda-cloud": {},
  "celltoolbar": "Raw Cell Format",
  "kernelspec": {
   "display_name": "Python 3 (ipykernel)",
   "language": "python",
   "name": "python3"
  },
  "language_info": {
   "codemirror_mode": {
    "name": "ipython",
    "version": 3
   },
   "file_extension": ".py",
   "mimetype": "text/x-python",
   "name": "python",
   "nbconvert_exporter": "python",
   "pygments_lexer": "ipython3",
   "version": "3.9.12"
  }
 },
 "nbformat": 4,
 "nbformat_minor": 4
}
