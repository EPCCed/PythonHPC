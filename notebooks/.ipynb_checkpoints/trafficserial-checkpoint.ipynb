{
 "cells": [
  {
   "cell_type": "code",
   "execution_count": 1,
   "id": "97a56d2a",
   "metadata": {},
   "outputs": [],
   "source": [
    "import mpi4py"
   ]
  },
  {
   "cell_type": "code",
   "execution_count": 2,
   "id": "d982c17d",
   "metadata": {},
   "outputs": [
    {
     "name": "stdout",
     "output_type": "stream",
     "text": [
      "Hello\n"
     ]
    }
   ],
   "source": [
    "print(\"Hello\")"
   ]
  },
  {
   "cell_type": "code",
   "execution_count": 2,
   "id": "47b212ba",
   "metadata": {},
   "outputs": [],
   "source": [
    "from mpi4py import MPI"
   ]
  },
  {
   "cell_type": "code",
   "execution_count": 3,
   "id": "b3a7cb95",
   "metadata": {},
   "outputs": [],
   "source": [
    "comm = MPI.COMM_WORLD"
   ]
  },
  {
   "cell_type": "code",
   "execution_count": 4,
   "id": "2d81ac86",
   "metadata": {},
   "outputs": [],
   "source": [
    "size = comm.Get_size()"
   ]
  },
  {
   "cell_type": "markdown",
   "id": "a57a4cdb",
   "metadata": {},
   "source": [
    "Howdy\n",
    " * 1\n",
    " * 2\n",
    "  "
   ]
  },
  {
   "cell_type": "code",
   "execution_count": 5,
   "id": "8a402634",
   "metadata": {},
   "outputs": [
    {
     "name": "stdout",
     "output_type": "stream",
     "text": [
      "1\n"
     ]
    }
   ],
   "source": [
    "print(size)"
   ]
  },
  {
   "cell_type": "code",
   "execution_count": 11,
   "id": "51cf9b7a",
   "metadata": {},
   "outputs": [],
   "source": []
  },
  {
   "cell_type": "code",
   "execution_count": null,
   "id": "ca3a071e",
   "metadata": {},
   "outputs": [],
   "source": []
  },
  {
   "cell_type": "code",
   "execution_count": 3,
   "id": "f3d7ab2c",
   "metadata": {},
   "outputs": [
    {
     "name": "stdout",
     "output_type": "stream",
     "text": [
      "Length of road is 1000000\n",
      "Number of iterations is 200\n",
      "Target density of cars is 0.52\n",
      "Initialising ...\n",
      "Actual Density of cars is 0.519689\n",
      "\n",
      "At iteration 20 average velocity is 0.8373815878342624\n",
      "At iteration 40 average velocity is 0.8708823931235797\n",
      "At iteration 60 average velocity is 0.8853294951403627\n",
      "At iteration 80 average velocity is 0.8937768550036657\n",
      "At iteration 100 average velocity is 0.8992262680179877\n",
      "At iteration 120 average velocity is 0.9032748432235433\n",
      "At iteration 140 average velocity is 0.9064017133323968\n",
      "At iteration 160 average velocity is 0.9087300289211432\n",
      "At iteration 180 average velocity is 0.910688892780105\n",
      "At iteration 200 average velocity is 0.912276380681523\n",
      "\n",
      "Finished\n",
      "\n",
      "Time taken was 223.36262607574463 seconds\n",
      "Update rate was 0.8954049453742449 MCOPs\n",
      "\n"
     ]
    }
   ],
   "source": [
    "import numpy as np\n",
    "\n",
    "def initroad(road, density, seedval):\n",
    "\n",
    "    np.random.seed(seedval)\n",
    "\n",
    "    n = len(road)-2\n",
    "\n",
    "    ncar = 0\n",
    "\n",
    "    for i in range(1, n+1):\n",
    "        \n",
    "        rng = np.random.random()\n",
    "\n",
    "        if rng < density:\n",
    "            road[i] = 1\n",
    "        else:\n",
    "            road[i] = 0\n",
    "\n",
    "        ncar = ncar + road[i]\n",
    "\n",
    "    return ncar\n",
    "\n",
    "\n",
    "def updateroad(newroad, oldroad):\n",
    "\n",
    "    n = len(oldroad)-2\n",
    "\n",
    "    nmove = 0\n",
    "\n",
    "    for i in range(1, n+1):\n",
    "        if oldroad[i] == 1:\n",
    "            if oldroad[i+1] == 1:\n",
    "                newroad[i] = 1\n",
    "            else:\n",
    "                newroad[i] = 0\n",
    "                nmove = nmove + 1\n",
    "        else:\n",
    "            if oldroad[i-1] == 1:\n",
    "                newroad[i] = 1\n",
    "            else:\n",
    "                newroad[i] = 0\n",
    "\n",
    "    return nmove\n",
    "\n",
    "def updatebcs(road):\n",
    "\n",
    "    n = len(road)-2\n",
    "\n",
    "    road[0]   = road[n]\n",
    "    road[n+1] = road[1]\n",
    "\n",
    "\n",
    "import time\n",
    "\n",
    "def gettime():\n",
    "    return time.time() \n",
    "\n",
    "import sys\n",
    "\n",
    "def main(argv):\n",
    "    # Simulation parameters\n",
    "    seedval = 5743\n",
    "    ncell = 1000000\n",
    "    maxiter = 200000000//ncell\n",
    "    printfreq = maxiter//10\n",
    "\n",
    "    newroad  = np.zeros(ncell+2)\n",
    "    oldroad  = np.zeros(ncell+2)\n",
    "\n",
    "    density = 0.52\n",
    "\n",
    "    sys.stdout.write('Length of road is {0}\\n'.format(ncell))\n",
    "    sys.stdout.write('Number of iterations is {0}\\n'.format(maxiter))\n",
    "    sys.stdout.write('Target density of cars is {0}\\n'.format(density))\n",
    "\n",
    "    # Initialise road accordingly using random number generator\n",
    "    sys.stdout.write('Initialising ...\\n')\n",
    "\n",
    "    ncars = initroad(oldroad, density, seedval)\n",
    "\n",
    "    sys.stdout.write('Actual Density of cars is {0}\\n\\n'.format(float(ncars)/float(ncell)))\n",
    "\n",
    "    tstart = gettime()\n",
    "\n",
    "    for iter in range(1, maxiter+1):\n",
    "\n",
    "        updatebcs(oldroad)\n",
    "\n",
    "        nmove = updateroad(newroad, oldroad)\n",
    "\n",
    "        # Copy new to old array\n",
    "        for i in range(1, ncell+1):\n",
    "            oldroad[i] = newroad[i]\n",
    "\n",
    "        if iter % printfreq == 0:\n",
    "\n",
    "          sys.stdout.write('At iteration {0} average velocity is {1}\\n'\n",
    "                           .format(iter, float(nmove)/float(ncars)))\n",
    "\n",
    "    tstop = gettime()\n",
    "\n",
    "    sys.stdout.write('\\nFinished\\n\\n')\n",
    "    sys.stdout.write('Time taken was {0} seconds\\n'.format(tstop-tstart))\n",
    "    sys.stdout.write('Update rate was {0} MCOPs\\n\\n'\n",
    "                     .format(1.0e-6*ncell*maxiter/(tstop-tstart)))\n",
    "    \n",
    "if __name__ == \"__main__\":\n",
    "    main(sys.argv[1:])"
   ]
  },
  {
   "cell_type": "code",
   "execution_count": 1,
   "id": "9ade9742",
   "metadata": {},
   "outputs": [
    {
     "name": "stdout",
     "output_type": "stream",
     "text": [
      "Length of road is 1000000\n",
      "Number of iterations is 200\n",
      "Target density of cars is 0.52\n",
      "Initialising ...\n",
      "Actual Density of cars is 0.519689\n",
      "\n",
      "At iteration 20 average velocity is 0.8373815878342624\n",
      "At iteration 40 average velocity is 0.8708823931235797\n",
      "At iteration 60 average velocity is 0.8853294951403627\n",
      "At iteration 80 average velocity is 0.8937768550036657\n",
      "At iteration 100 average velocity is 0.8992262680179877\n",
      "At iteration 120 average velocity is 0.9032748432235433\n",
      "At iteration 140 average velocity is 0.9064017133323968\n",
      "At iteration 160 average velocity is 0.9087300289211432\n",
      "At iteration 180 average velocity is 0.910688892780105\n",
      "At iteration 200 average velocity is 0.912276380681523\n",
      "\n",
      "Finished\n",
      "\n",
      "Time taken was 2.0837626457214355 seconds\n",
      "Update rate was 95.98022136093934 MCOPs\n",
      "\n"
     ]
    }
   ],
   "source": [
    "import numpy as np\n",
    "\n",
    "def initroad(road, density, seedval):\n",
    "\n",
    "    np.random.seed(seedval)\n",
    "\n",
    "    n = len(road)-2\n",
    "\n",
    "    rng = np.random.random(n)\n",
    "\n",
    "    road[1:n+1] = np.where(rng[:] < density, 1, 0)\n",
    "\n",
    "    ncar = np.sum(road[1:n+1])\n",
    "    \n",
    "    return ncar\n",
    "\n",
    "\n",
    "def updateroad(newroad, oldroad):\n",
    "\n",
    "    n = len(oldroad)-2\n",
    "\n",
    "    newroad[1:n+1] = np.where(oldroad[1:n+1]==0, oldroad[0:n], oldroad[2:n+2])\n",
    "\n",
    "    nmove = (newroad[1:n+1] != oldroad[1:n+1]).sum(dtype=int)\n",
    "    nmove = nmove / 2\n",
    "\n",
    "    return nmove\n",
    "\n",
    "\n",
    "def updatebcs(road):\n",
    "\n",
    "    n = len(road)-2\n",
    "\n",
    "    road[0]   = road[n]\n",
    "    road[n+1] = road[1]\n",
    "\n",
    "\n",
    "import time\n",
    "\n",
    "def gettime():\n",
    "\n",
    "    return time.time()\n",
    "\n",
    "import sys\n",
    "\n",
    "def main(argv):\n",
    "    # Simulation parameters\n",
    "    seedval = 5743\n",
    "    ncell = 1000000\n",
    "    maxiter = 200000000//ncell\n",
    "    printfreq = maxiter//10\n",
    "\n",
    "    newroad  = np.zeros(ncell+2)\n",
    "    oldroad  = np.zeros(ncell+2)\n",
    "\n",
    "    density = 0.52\n",
    "\n",
    "    sys.stdout.write('Length of road is {0}\\n'.format(ncell))\n",
    "    sys.stdout.write('Number of iterations is {0}\\n'.format(maxiter))\n",
    "    sys.stdout.write('Target density of cars is {0}\\n'.format(density))\n",
    "\n",
    "    # Initialise road accordingly using random number generator\n",
    "    sys.stdout.write('Initialising ...\\n')\n",
    "\n",
    "    ncars = initroad(oldroad, density, seedval)\n",
    "\n",
    "    sys.stdout.write('Actual Density of cars is {0}\\n\\n'.format(float(ncars)/float(ncell)))\n",
    "\n",
    "    tstart = gettime()\n",
    "\n",
    "    for iter in range(1, maxiter+1):\n",
    "\n",
    "        updatebcs(oldroad)\n",
    "\n",
    "        nmove = updateroad(newroad, oldroad)\n",
    "\n",
    "        # Copy new to old array\n",
    "        oldroad[1:ncell+1] = newroad[1:ncell+1]\n",
    "\n",
    "        if iter % printfreq == 0:\n",
    "\n",
    "          sys.stdout.write('At iteration {0} average velocity is {1}\\n'\n",
    "                           .format(iter, float(nmove)/float(ncars)))\n",
    "\n",
    "    tstop = gettime()\n",
    "\n",
    "    sys.stdout.write('\\nFinished\\n\\n')\n",
    "    sys.stdout.write('Time taken was {0} seconds\\n'.format(tstop-tstart))\n",
    "    sys.stdout.write('Update rate was {0} MCOPs\\n\\n'\n",
    "                     .format(1.0e-6*ncell*maxiter/(tstop-tstart)))\n",
    "    \n",
    "if __name__ == \"__main__\":\n",
    "    main(sys.argv[1:])"
   ]
  },
  {
   "cell_type": "code",
   "execution_count": 4,
   "id": "b803c338",
   "metadata": {},
   "outputs": [
    {
     "name": "stdout",
     "output_type": "stream",
     "text": [
      "Length of road is 1000000\n",
      "Number of iterations is 200\n",
      "Target density of cars is 0.52\n",
      "Running on 1 process(es)\n",
      "Initialising ...\n",
      "Actual Density of cars is 0.519688\n",
      "\n",
      "Scattering data ...\n",
      "... done\n",
      "\n",
      "At iteration 20 average velocity is 0.837381\n",
      "At iteration 40 average velocity is 0.870882\n",
      "At iteration 60 average velocity is 0.885329\n",
      "At iteration 80 average velocity is 0.893777\n",
      "At iteration 100 average velocity is 0.899230\n",
      "At iteration 120 average velocity is 0.903279\n",
      "At iteration 140 average velocity is 0.906405\n",
      "At iteration 160 average velocity is 0.908734\n",
      "At iteration 180 average velocity is 0.910693\n",
      "At iteration 200 average velocity is 0.912280\n",
      "\n",
      "Finished\n",
      "\n",
      "Time taken was 1.079091099993093 seconds\n",
      "Update rate was 185.34116350443458 MCOPs\n",
      "\n"
     ]
    }
   ],
   "source": [
    "import sys\n",
    "import numpy as np\n",
    "\n",
    "def initroad(road, density, seedval):\n",
    "\n",
    "    np.random.seed(seedval)\n",
    "\n",
    "    n = len(road)-2\n",
    "\n",
    "    rng = np.random.random(n)\n",
    "\n",
    "    road[1:n+1] = np.where(rng[:] < density, 1, 0)\n",
    "\n",
    "    ncar = np.sum(road[1:n+1])\n",
    "\n",
    "    return ncar\n",
    "\n",
    "\n",
    "def updateroad(newroad, oldroad):\n",
    "\n",
    "    n = len(oldroad)-2\n",
    "\n",
    "    newroad[1:n+1] = np.where(oldroad[1:n+1]==0, oldroad[0:n], oldroad[2:n+2])\n",
    "\n",
    "    nmove = (newroad[1:n+1] != oldroad[1:n+1]).sum(dtype=int)\n",
    "    nmove = nmove / 2\n",
    "\n",
    "    return nmove\n",
    "\n",
    "\n",
    "def updatebcs(road):\n",
    "\n",
    "    n = len(road)-2\n",
    "\n",
    "    road[0]   = road[n]\n",
    "    road[n+1] = road[1]\n",
    "\n",
    "\n",
    "import time\n",
    "\n",
    "def gettime():\n",
    "\n",
    "    return time.time()\n",
    "\n",
    "from mpi4py import MPI\n",
    "\n",
    "def main(argv):\n",
    "\n",
    "    comm = MPI.COMM_WORLD\n",
    "\n",
    "    size = comm.Get_size()\n",
    "    rank = comm.Get_rank()\n",
    "\n",
    "# Simulation parameters\n",
    "    seedval = 5743\n",
    "    ncell = 1000000\n",
    "    maxiter = 200000000//ncell\n",
    "    printfreq = maxiter//10\n",
    "\n",
    "    nlocal = ncell//size\n",
    "\n",
    "    bigroad  = np.zeros(ncell,dtype=np.int32)\n",
    "    newroad  = np.zeros(nlocal+2,dtype=np.int32)\n",
    "    oldroad  = np.zeros(nlocal+2,dtype=np.int32)\n",
    "\n",
    "    sbuf = np.zeros(1)\n",
    "    rbuf = np.zeros(1)\n",
    "\n",
    "    density = 0.52\n",
    "\n",
    "    if (rank == 0):\n",
    "\n",
    "        print(f\"Length of road is {ncell}\")\n",
    "        print(f\"Number of iterations is {maxiter}\")\n",
    "        print(f\"Target density of cars is {density}\")\n",
    "        print(f\"Running on {size} process(es)\")\n",
    "\n",
    "        # Initialise road accordingly using random number generator\n",
    "        print(f\"Initialising ...\")\n",
    "\n",
    "        ncars = initroad(bigroad, density, seedval)\n",
    "\n",
    "        print(f\"Actual Density of cars is {format(float(ncars)/float(ncell))}\\n\")\n",
    "        print(f\"Scattering data ...\")\n",
    "\n",
    "    comm.Scatter(bigroad, oldroad[1:nlocal+1], root=0)\n",
    "\n",
    "    if (rank == 0):\n",
    "        print(f\"... done\\n\")\n",
    "        \n",
    "    # Compute neighbours\n",
    "\n",
    "    rankup   = (rank + 1)\n",
    "    rankdown = (rank - 1)\n",
    "\n",
    "    # Wrap-around for cyclic boundary conditions, i.e. a roundabout\n",
    "\n",
    "    if (rankup == size):\n",
    "        rankup = 0\n",
    "\n",
    "    if (rankdown == -1):\n",
    "        rankdown = size-1\n",
    "\n",
    "    nmove = 0\n",
    "    nmovelocal = 0\n",
    "\n",
    "    comm.barrier()\n",
    "\n",
    "    tstart = MPI.Wtime()\n",
    "\n",
    "    for iter in range(1, maxiter+1):\n",
    "\n",
    "        comm.Sendrecv(oldroad[nlocal:nlocal+1], dest=rankup,\n",
    "                      recvbuf=oldroad[0:1], source=rankdown)\n",
    "\n",
    "        comm.Sendrecv(oldroad[1:2], dest=rankdown,\n",
    "                      recvbuf=oldroad[nlocal+1:nlocal+2], source=rankup)\n",
    "\n",
    "        nmovelocal = updateroad(newroad, oldroad)\n",
    "\n",
    "        sbuf[0] = nmovelocal\n",
    "        comm.Allreduce(sbuf, rbuf)\n",
    "        nmove = rbuf[0]\n",
    "\n",
    "        # Copy new to old array\n",
    "        oldroad[1:nlocal+1] = newroad[1:nlocal+1]\n",
    "\n",
    "        if iter % printfreq == 0:\n",
    "\n",
    "            if (rank == 0):\n",
    "\n",
    "                print(f\"At iteration {iter} average velocity is {float(nmove)/float(ncars):.6f}\")\n",
    "            tstop = MPI.Wtime()\n",
    "\n",
    "    if (rank == 0):\n",
    "\n",
    "        print(f\"\\nFinished\\n\")\n",
    "        print(f\"Time taken was {tstop-tstart} seconds\")\n",
    "        print(f\"Update rate was {1.0e-6*ncell*maxiter/(tstop-tstart)} MCOPs\\n\")\n",
    "\n",
    "if __name__ == \"__main__\":\n",
    "    main(sys.argv[1:])"
   ]
  },
  {
   "cell_type": "code",
   "execution_count": 6,
   "id": "4878bbe1",
   "metadata": {},
   "outputs": [
    {
     "name": "stdout",
     "output_type": "stream",
     "text": [
      "Length of road is 1000000\n",
      "Number of iterations is 200\n",
      "Target density of cars is 0.52\n",
      "Running on 1 process(es)\n",
      "Initialising ...\n",
      "Actual Density of cars is 0.519688\n",
      "\n",
      "Scattering data ...\n",
      "... done\n",
      "\n",
      "At iteration 20 average velocity is 0.837381\n",
      "At iteration 40 average velocity is 0.870882\n",
      "At iteration 60 average velocity is 0.885329\n",
      "At iteration 80 average velocity is 0.893777\n",
      "At iteration 100 average velocity is 0.899230\n",
      "At iteration 120 average velocity is 0.903279\n",
      "At iteration 140 average velocity is 0.906405\n",
      "At iteration 160 average velocity is 0.908734\n",
      "At iteration 180 average velocity is 0.910693\n",
      "At iteration 200 average velocity is 0.912280\n",
      "\n",
      "Finished\n",
      "\n",
      "Time taken was 1.0911805000068853 seconds\n",
      "Update rate was 183.28773287163582 MCOPs\n",
      "\n"
     ]
    }
   ],
   "source": [
    "# %load trafficmpi.py\n",
    "import sys\n",
    "import numpy as np\n",
    "\n",
    "def initroad(road, density, seedval):\n",
    "\n",
    "    np.random.seed(seedval)\n",
    "\n",
    "    n = len(road)-2\n",
    "\n",
    "    rng = np.random.random(n)\n",
    "\n",
    "    road[1:n+1] = np.where(rng[:] < density, 1, 0)\n",
    "\n",
    "    ncar = np.sum(road[1:n+1])\n",
    "    \n",
    "    return ncar\n",
    "\n",
    "\n",
    "def updateroad(newroad, oldroad):\n",
    "\n",
    "    n = len(oldroad)-2\n",
    "\n",
    "    newroad[1:n+1] = np.where(oldroad[1:n+1]==0, oldroad[0:n], oldroad[2:n+2])\n",
    "\n",
    "    nmove = (newroad[1:n+1] != oldroad[1:n+1]).sum(dtype=int)\n",
    "    nmove = nmove / 2\n",
    "\n",
    "    return nmove\n",
    "\n",
    "\n",
    "def updatebcs(road):\n",
    "\n",
    "    n = len(road)-2\n",
    "\n",
    "    road[0]   = road[n]\n",
    "    road[n+1] = road[1]\n",
    "\n",
    "\n",
    "from mpi4py import MPI\n",
    "\n",
    "def main(argv):\n",
    "\n",
    "    comm = MPI.COMM_WORLD\n",
    "\n",
    "    size = comm.Get_size()\n",
    "    rank = comm.Get_rank()\n",
    "\n",
    "# Simulation parameters\n",
    "    seedval = 5743\n",
    "    ncell = 1000000\n",
    "    maxiter = 200000000//ncell\n",
    "\n",
    "    printfreq = maxiter//10\n",
    "\n",
    "    nlocal = ncell//size\n",
    "\n",
    "    bigroad  = np.zeros(ncell,dtype=np.int32)\n",
    "    newroad  = np.zeros(nlocal+2,dtype=np.int32)\n",
    "    oldroad  = np.zeros(nlocal+2,dtype=np.int32)\n",
    "\n",
    "    sbuf = np.zeros(1)\n",
    "    rbuf = np.zeros(1)\n",
    "\n",
    "    density = 0.52\n",
    "\n",
    "    if (rank == 0):\n",
    "\n",
    "        print(f\"Length of road is {ncell}\")\n",
    "        print(f\"Number of iterations is {maxiter}\")\n",
    "        print(f\"Target density of cars is {density}\")\n",
    "        print(f\"Running on {size} process(es)\")\n",
    "\n",
    "        # Initialise road accordingly using random number generator\n",
    "        print(f\"Initialising ...\")\n",
    "\n",
    "        ncars = initroad(bigroad, density, seedval)\n",
    "\n",
    "        print(f\"Actual Density of cars is {format(float(ncars)/float(ncell))}\\n\")\n",
    "        print(f\"Scattering data ...\")\n",
    "\n",
    "    comm.Scatter(bigroad, oldroad[1:nlocal+1], root=0)\n",
    "\n",
    "    if (rank == 0):\n",
    "        print(f\"... done\\n\")\n",
    "\n",
    "    # Compute neighbours\n",
    "\n",
    "    rankup   = (rank + 1)\n",
    "    rankdown = (rank - 1)\n",
    "\n",
    "    # Wrap-around for cyclic boundary conditions, i.e. a roundabout\n",
    "\n",
    "    if (rankup == size):\n",
    "        rankup = 0\n",
    "\n",
    "    if (rankdown == -1):\n",
    "        rankdown = size-1\n",
    "\n",
    "    nmove = 0\n",
    "    nmovelocal = 0\n",
    "\n",
    "    comm.barrier()\n",
    "        \n",
    "    tstart = MPI.Wtime()\n",
    "\n",
    "    for iter in range(1, maxiter+1):\n",
    "\n",
    "        comm.Sendrecv(oldroad[nlocal:nlocal+1], dest=rankup,\n",
    "                      recvbuf=oldroad[0:1], source=rankdown)\n",
    "\n",
    "        comm.Sendrecv(oldroad[1:2], dest=rankdown,\n",
    "                      recvbuf=oldroad[nlocal+1:nlocal+2], source=rankup)\n",
    "\n",
    "        nmovelocal = updateroad(newroad, oldroad)\n",
    "\n",
    "        sbuf[0] = nmovelocal\n",
    "        comm.Allreduce(sbuf, rbuf)\n",
    "        nmove = rbuf[0]\n",
    "\n",
    "        # Copy new to old array\n",
    "        oldroad[1:nlocal+1] = newroad[1:nlocal+1]\n",
    "\n",
    "        if iter % printfreq == 0:\n",
    "\n",
    "            if (rank == 0):\n",
    "\n",
    "                print(f\"At iteration {iter} average velocity is {float(nmove)/float(ncars):.6f}\")\n",
    "\n",
    "    tstop = MPI.Wtime()\n",
    "\n",
    "    if (rank == 0):\n",
    "\n",
    "        print(f\"\\nFinished\\n\")\n",
    "        print(f\"Time taken was {tstop-tstart} seconds\")\n",
    "        print(f\"Update rate was {1.0e-6*ncell*maxiter/(tstop-tstart)} MCOPs\\n\")\n",
    "\n",
    "if __name__ == \"__main__\":\n",
    "    main(sys.argv[1:])\n"
   ]
  },
  {
   "cell_type": "code",
   "execution_count": 2,
   "id": "2d6e7bf2",
   "metadata": {},
   "outputs": [
    {
     "name": "stdout",
     "output_type": "stream",
     "text": [
      "Length of road is 1000000\n",
      "Number of iterations is 2000\n",
      "Target density of cars is 0.52\n",
      "Running on 1 process(es)\n",
      "Initialising ...\n",
      "Actual Density of cars is 0.519688\n",
      "\n",
      "Scattering data ...\n",
      "... done\n",
      "\n",
      "At iteration 200 average velocity is 0.912280\n",
      "At iteration 400 average velocity is 0.919625\n",
      "At iteration 600 average velocity is 0.922078\n",
      "At iteration 800 average velocity is 0.923125\n",
      "At iteration 1000 average velocity is 0.923656\n",
      "At iteration 1200 average velocity is 0.923899\n",
      "At iteration 1400 average velocity is 0.924045\n",
      "At iteration 1600 average velocity is 0.924112\n",
      "At iteration 1800 average velocity is 0.924141\n",
      "At iteration 2000 average velocity is 0.924187\n",
      "\n",
      "Finished\n",
      "\n",
      "Time taken was 10.707 seconds\n",
      "Update rate was 186.80 MCOPs\n",
      "\n"
     ]
    }
   ],
   "source": [
    "!mpiexec -n 1 python trafficmpi.py"
   ]
  },
  {
   "cell_type": "code",
   "execution_count": 3,
   "id": "5677c60b",
   "metadata": {},
   "outputs": [
    {
     "name": "stdout",
     "output_type": "stream",
     "text": [
      "Length of road is 1000000\n",
      "Number of iterations is 2000\n",
      "Target density of cars is 0.52\n",
      "Running on 2 process(es)\n",
      "Initialising ...\n",
      "Actual Density of cars is 0.519688\n",
      "\n",
      "Scattering data ...\n",
      "... done\n",
      "\n",
      "At iteration 200 average velocity is 0.912280\n",
      "At iteration 400 average velocity is 0.919625\n",
      "At iteration 600 average velocity is 0.922078\n",
      "At iteration 800 average velocity is 0.923125\n",
      "At iteration 1000 average velocity is 0.923656\n",
      "At iteration 1200 average velocity is 0.923899\n",
      "At iteration 1400 average velocity is 0.924045\n",
      "At iteration 1600 average velocity is 0.924112\n",
      "At iteration 1800 average velocity is 0.924141\n",
      "At iteration 2000 average velocity is 0.924187\n",
      "\n",
      "Finished\n",
      "\n",
      "Time taken was 5.950 seconds\n",
      "Update rate was 336.14 MCOPs\n",
      "\n"
     ]
    }
   ],
   "source": [
    "!mpiexec -n 2 python trafficmpi.py"
   ]
  },
  {
   "cell_type": "code",
   "execution_count": 10,
   "id": "7cec7806",
   "metadata": {},
   "outputs": [
    {
     "name": "stdout",
     "output_type": "stream",
     "text": [
      "Length of road is 1000000\n",
      "Number of iterations is 200\n",
      "Target density of cars is 0.52\n",
      "Running on 1 process(es)\n",
      "Initialising ...\n",
      "Actual Density of cars is 0.519688\n",
      "\n",
      "Scattering data ...\n",
      "... done\n",
      "\n",
      "At iteration 20 average velocity is 0.837381\n",
      "At iteration 40 average velocity is 0.870882\n",
      "At iteration 60 average velocity is 0.885329\n",
      "At iteration 80 average velocity is 0.893777\n",
      "At iteration 100 average velocity is 0.899230\n",
      "At iteration 120 average velocity is 0.903279\n",
      "At iteration 140 average velocity is 0.906405\n",
      "At iteration 160 average velocity is 0.908734\n",
      "At iteration 180 average velocity is 0.910693\n",
      "At iteration 200 average velocity is 0.912280\n",
      "\n",
      "Finished\n",
      "\n",
      "Time taken was 1.0616869000077713 seconds\n",
      "Update rate was 188.3794553728939 MCOPs\n",
      "\n"
     ]
    }
   ],
   "source": [
    "!mpiexec -n 1 python trafficmpi.py"
   ]
  },
  {
   "cell_type": "code",
   "execution_count": 11,
   "id": "eb42bfc8",
   "metadata": {},
   "outputs": [
    {
     "name": "stdout",
     "output_type": "stream",
     "text": [
      "Length of road is 1000000\n",
      "Number of iterations is 200\n",
      "Target density of cars is 0.52\n",
      "Running on 2 process(es)\n",
      "Initialising ...\n",
      "Actual Density of cars is 0.519688\n",
      "\n",
      "Scattering data ...\n",
      "... done\n",
      "\n",
      "At iteration 20 average velocity is 0.837381\n",
      "At iteration 40 average velocity is 0.870882\n",
      "At iteration 60 average velocity is 0.885329\n",
      "At iteration 80 average velocity is 0.893777\n",
      "At iteration 100 average velocity is 0.899230\n",
      "At iteration 120 average velocity is 0.903279\n",
      "At iteration 140 average velocity is 0.906405\n",
      "At iteration 160 average velocity is 0.908734\n",
      "At iteration 180 average velocity is 0.910693\n",
      "At iteration 200 average velocity is 0.912280\n",
      "\n",
      "Finished\n",
      "\n",
      "Time taken was 0.638129700004356 seconds\n",
      "Update rate was 313.41590902074415 MCOPs\n",
      "\n"
     ]
    }
   ],
   "source": [
    "!mpiexec -n 2 python trafficmpi.py"
   ]
  },
  {
   "cell_type": "code",
   "execution_count": 12,
   "id": "204e6bb3",
   "metadata": {},
   "outputs": [
    {
     "name": "stdout",
     "output_type": "stream",
     "text": [
      "Length of road is 1000000\n",
      "Number of iterations is 200\n",
      "Target density of cars is 0.52\n",
      "Running on 4 process(es)\n",
      "Initialising ...\n",
      "Actual Density of cars is 0.519688\n",
      "\n",
      "Scattering data ...\n",
      "... done\n",
      "\n",
      "At iteration 20 average velocity is 0.837381\n",
      "At iteration 40 average velocity is 0.870882\n",
      "At iteration 60 average velocity is 0.885329\n",
      "At iteration 80 average velocity is 0.893777\n",
      "At iteration 100 average velocity is 0.899230\n",
      "At iteration 120 average velocity is 0.903279\n",
      "At iteration 140 average velocity is 0.906405\n",
      "At iteration 160 average velocity is 0.908734\n",
      "At iteration 180 average velocity is 0.910693\n",
      "At iteration 200 average velocity is 0.912280\n",
      "\n",
      "Finished\n",
      "\n",
      "Time taken was 0.4816986000078032 seconds\n",
      "Update rate was 415.19738690699984 MCOPs\n",
      "\n"
     ]
    }
   ],
   "source": [
    "!mpiexec -n 4 python trafficmpi.py"
   ]
  },
  {
   "cell_type": "code",
   "execution_count": 13,
   "id": "3c0e345d",
   "metadata": {},
   "outputs": [],
   "source": [
    "!notepad\n",
    "\n"
   ]
  },
  {
   "cell_type": "code",
   "execution_count": 15,
   "id": "195da8b3",
   "metadata": {},
   "outputs": [],
   "source": [
    "!notepad trafficmpi.py"
   ]
  },
  {
   "cell_type": "code",
   "execution_count": 16,
   "id": "a42f5381",
   "metadata": {},
   "outputs": [
    {
     "name": "stdout",
     "output_type": "stream",
     "text": [
      "Length of road is 1000000\n",
      "Number of iterations is 200\n",
      "Target density of cars is 0.52\n",
      "Running on 4 process(es)\n",
      "Initialising ...\n",
      "Actual Density of cars is 0.519688\n",
      "\n",
      "Scattering data ...\n",
      "... done\n",
      "\n",
      "At iteration 20 average velocity is 0.837381\n",
      "At iteration 40 average velocity is 0.870882\n",
      "At iteration 60 average velocity is 0.885329\n",
      "At iteration 80 average velocity is 0.893777\n",
      "At iteration 100 average velocity is 0.899230\n",
      "At iteration 120 average velocity is 0.903279\n",
      "At iteration 140 average velocity is 0.906405\n",
      "At iteration 160 average velocity is 0.908734\n",
      "At iteration 180 average velocity is 0.910693\n",
      "At iteration 200 average velocity is 0.912280\n",
      "\n",
      "Finished\n",
      "\n",
      "Time taken was 0.6751310999970883 seconds:.2f\n",
      "Update rate was 296.23876014727 MCOPs\n",
      ":.2f\n"
     ]
    }
   ],
   "source": [
    "!mpiexec -n 4 python trafficmpi.py"
   ]
  },
  {
   "cell_type": "code",
   "execution_count": 18,
   "id": "90e9e412",
   "metadata": {},
   "outputs": [],
   "source": [
    "!notepad trafficmpi.py"
   ]
  },
  {
   "cell_type": "code",
   "execution_count": 19,
   "id": "6bf4e9e9",
   "metadata": {},
   "outputs": [
    {
     "name": "stdout",
     "output_type": "stream",
     "text": [
      "Length of road is 1000000\n",
      "Number of iterations is 200\n",
      "Target density of cars is 0.52\n",
      "Running on 4 process(es)\n",
      "Initialising ...\n",
      "Actual Density of cars is 0.519688\n",
      "\n",
      "Scattering data ...\n",
      "... done\n",
      "\n",
      "At iteration 20 average velocity is 0.837381\n",
      "At iteration 40 average velocity is 0.870882\n",
      "At iteration 60 average velocity is 0.885329\n",
      "At iteration 80 average velocity is 0.893777\n",
      "At iteration 100 average velocity is 0.899230\n",
      "At iteration 120 average velocity is 0.903279\n",
      "At iteration 140 average velocity is 0.906405\n",
      "At iteration 160 average velocity is 0.908734\n",
      "At iteration 180 average velocity is 0.910693\n",
      "At iteration 200 average velocity is 0.912280\n",
      "\n",
      "Finished\n",
      "\n",
      "Time taken was 0.44 seconds\n",
      "Update rate was 458.38 MCOPs\n",
      "\n"
     ]
    }
   ],
   "source": [
    "!mpiexec -n 4 python trafficmpi.py"
   ]
  },
  {
   "cell_type": "code",
   "execution_count": 20,
   "id": "2a2ddf2b",
   "metadata": {},
   "outputs": [
    {
     "name": "stdout",
     "output_type": "stream",
     "text": [
      "Length of road is 1000000\n",
      "Number of iterations is 200\n",
      "Target density of cars is 0.52\n",
      "Running on 4 process(es)\n",
      "Initialising ...\n",
      "Actual Density of cars is 0.519688\n",
      "\n",
      "Scattering data ...\n",
      "... done\n",
      "\n",
      "At iteration 20 average velocity is 0.837381\n",
      "At iteration 40 average velocity is 0.870882\n",
      "At iteration 60 average velocity is 0.885329\n",
      "At iteration 80 average velocity is 0.893777\n",
      "At iteration 100 average velocity is 0.899230\n",
      "At iteration 120 average velocity is 0.903279\n",
      "At iteration 140 average velocity is 0.906405\n",
      "At iteration 160 average velocity is 0.908734\n",
      "At iteration 180 average velocity is 0.910693\n",
      "At iteration 200 average velocity is 0.912280\n",
      "\n",
      "Finished\n",
      "\n",
      "Time taken was 0.44 seconds\n",
      "Update rate was 459.71 MCOPs\n",
      "\n"
     ]
    }
   ],
   "source": [
    "!mpiexec -n 4 python trafficmpi.py"
   ]
  },
  {
   "cell_type": "code",
   "execution_count": 21,
   "id": "6211d984",
   "metadata": {},
   "outputs": [
    {
     "name": "stderr",
     "output_type": "stream",
     "text": [
      "python: can't open file 'C:\\Users\\dsh\\OneDrive - University of Edinburgh\\python\\notebooktest\\trafficmpi.p': [Errno 2] No such file or directory\n",
      "python: can't open file 'C:\\Users\\dsh\\OneDrive - University of Edinburgh\\python\\notebooktest\\trafficmpi.p': [Errno 2] No such file or directory\n",
      "python: can't open file 'C:\\Users\\dsh\\OneDrive - University of Edinburgh\\python\\notebooktest\\trafficmpi.p': [Errno 2] No such file or directory\n",
      "python: can't open file 'C:\\Users\\dsh\\OneDrive - University of Edinburgh\\python\\notebooktest\\trafficmpi.p': [Errno 2] No such file or directory\n"
     ]
    }
   ],
   "source": [
    "!mpiexec -n 4 python trafficmpi.p"
   ]
  },
  {
   "cell_type": "code",
   "execution_count": 22,
   "id": "28968d00",
   "metadata": {},
   "outputs": [
    {
     "name": "stdout",
     "output_type": "stream",
     "text": [
      "Length of road is 1000000\n",
      "Number of iterations is 200\n",
      "Target density of cars is 0.52\n",
      "Running on 4 process(es)\n",
      "Initialising ...\n",
      "Actual Density of cars is 0.519688\n",
      "\n",
      "Scattering data ...\n",
      "... done\n",
      "\n",
      "At iteration 20 average velocity is 0.837381\n",
      "At iteration 40 average velocity is 0.870882\n",
      "At iteration 60 average velocity is 0.885329\n",
      "At iteration 80 average velocity is 0.893777\n",
      "At iteration 100 average velocity is 0.899230\n",
      "At iteration 120 average velocity is 0.903279\n",
      "At iteration 140 average velocity is 0.906405\n",
      "At iteration 160 average velocity is 0.908734\n",
      "At iteration 180 average velocity is 0.910693\n",
      "At iteration 200 average velocity is 0.912280\n",
      "\n",
      "Finished\n",
      "\n",
      "Time taken was 0.502 seconds\n",
      "Update rate was 398.30 MCOPs\n",
      "\n"
     ]
    }
   ],
   "source": [
    "!mpiexec -n 4 python trafficmpi.py"
   ]
  },
  {
   "cell_type": "code",
   "execution_count": 23,
   "id": "5b9a47c7",
   "metadata": {},
   "outputs": [
    {
     "name": "stdout",
     "output_type": "stream",
     "text": [
      "Length of road is 1000000\n",
      "Number of iterations is 200\n",
      "Target density of cars is 0.52\n",
      "Running on 1 process(es)\n",
      "Initialising ...\n",
      "Actual Density of cars is 0.519688\n",
      "\n",
      "Scattering data ...\n",
      "... done\n",
      "\n",
      "At iteration 20 average velocity is 0.837381\n",
      "At iteration 40 average velocity is 0.870882\n",
      "At iteration 60 average velocity is 0.885329\n",
      "At iteration 80 average velocity is 0.893777\n",
      "At iteration 100 average velocity is 0.899230\n",
      "At iteration 120 average velocity is 0.903279\n",
      "At iteration 140 average velocity is 0.906405\n",
      "At iteration 160 average velocity is 0.908734\n",
      "At iteration 180 average velocity is 0.910693\n",
      "At iteration 200 average velocity is 0.912280\n",
      "\n",
      "Finished\n",
      "\n",
      "Time taken was 1.129 seconds\n",
      "Update rate was 177.12 MCOPs\n",
      "\n"
     ]
    }
   ],
   "source": [
    "!mpiexec -n 1 python trafficmpi.py\n"
   ]
  },
  {
   "cell_type": "code",
   "execution_count": 24,
   "id": "5e087500",
   "metadata": {},
   "outputs": [
    {
     "data": {
      "text/plain": [
       "[]"
      ]
     },
     "execution_count": 24,
     "metadata": {},
     "output_type": "execute_result"
    }
   ],
   "source": [
    "!!\n"
   ]
  },
  {
   "cell_type": "code",
   "execution_count": 25,
   "id": "83e7ff46",
   "metadata": {},
   "outputs": [
    {
     "name": "stdout",
     "output_type": "stream",
     "text": [
      "Length of road is 1000000\n",
      "Number of iterations is 2000\n",
      "Target density of cars is 0.52\n",
      "Running on 1 process(es)\n",
      "Initialising ...\n",
      "Actual Density of cars is 0.519688\n",
      "\n",
      "Scattering data ...\n",
      "... done\n",
      "\n",
      "At iteration 200 average velocity is 0.912280\n",
      "At iteration 400 average velocity is 0.919625\n",
      "At iteration 600 average velocity is 0.922078\n",
      "At iteration 800 average velocity is 0.923125\n",
      "At iteration 1000 average velocity is 0.923656\n",
      "At iteration 1200 average velocity is 0.923899\n",
      "At iteration 1400 average velocity is 0.924045\n",
      "At iteration 1600 average velocity is 0.924112\n",
      "At iteration 1800 average velocity is 0.924141\n",
      "At iteration 2000 average velocity is 0.924187\n",
      "\n",
      "Finished\n",
      "\n",
      "Time taken was 11.320 seconds\n",
      "Update rate was 176.68 MCOPs\n",
      "\n"
     ]
    }
   ],
   "source": [
    "!mpiexec -n 1 python trafficmpi.py"
   ]
  },
  {
   "cell_type": "code",
   "execution_count": 26,
   "id": "9e13364c",
   "metadata": {},
   "outputs": [
    {
     "name": "stdout",
     "output_type": "stream",
     "text": [
      "Length of road is 1000000\n",
      "Number of iterations is 2000\n",
      "Target density of cars is 0.52\n",
      "Running on 1 process(es)\n",
      "Initialising ...\n",
      "Actual Density of cars is 0.519688\n",
      "\n",
      "Scattering data ...\n",
      "... done\n",
      "\n",
      "At iteration 200 average velocity is 0.912280\n",
      "At iteration 400 average velocity is 0.919625\n",
      "At iteration 600 average velocity is 0.922078\n",
      "At iteration 800 average velocity is 0.923125\n",
      "At iteration 1000 average velocity is 0.923656\n",
      "At iteration 1200 average velocity is 0.923899\n",
      "At iteration 1400 average velocity is 0.924045\n",
      "At iteration 1600 average velocity is 0.924112\n",
      "At iteration 1800 average velocity is 0.924141\n",
      "At iteration 2000 average velocity is 0.924187\n",
      "\n",
      "Finished\n",
      "\n",
      "Time taken was 10.887 seconds\n",
      "Update rate was 183.70 MCOPs\n",
      "\n"
     ]
    }
   ],
   "source": [
    "!mpiexec -n 1 python trafficmpi.py"
   ]
  },
  {
   "cell_type": "code",
   "execution_count": 27,
   "id": "1fd1d55c",
   "metadata": {},
   "outputs": [
    {
     "name": "stdout",
     "output_type": "stream",
     "text": [
      "Length of road is 1000000\n",
      "Number of iterations is 2000\n",
      "Target density of cars is 0.52\n",
      "Running on 2 process(es)\n",
      "Initialising ...\n",
      "Actual Density of cars is 0.519688\n",
      "\n",
      "Scattering data ...\n",
      "... done\n",
      "\n",
      "At iteration 200 average velocity is 0.912280\n",
      "At iteration 400 average velocity is 0.919625\n",
      "At iteration 600 average velocity is 0.922078\n",
      "At iteration 800 average velocity is 0.923125\n",
      "At iteration 1000 average velocity is 0.923656\n",
      "At iteration 1200 average velocity is 0.923899\n",
      "At iteration 1400 average velocity is 0.924045\n",
      "At iteration 1600 average velocity is 0.924112\n",
      "At iteration 1800 average velocity is 0.924141\n",
      "At iteration 2000 average velocity is 0.924187\n",
      "\n",
      "Finished\n",
      "\n",
      "Time taken was 7.291 seconds\n",
      "Update rate was 274.31 MCOPs\n",
      "\n"
     ]
    }
   ],
   "source": [
    "!mpiexec -n 2 python trafficmpi.py"
   ]
  },
  {
   "cell_type": "code",
   "execution_count": null,
   "id": "2abb8510",
   "metadata": {},
   "outputs": [],
   "source": [
    "!mpiexec -n 3 python trafficmpi.py"
   ]
  },
  {
   "cell_type": "code",
   "execution_count": null,
   "id": "e8e0ab0e",
   "metadata": {},
   "outputs": [],
   "source": [
    "!mpiexec -n 3 python trafficmpi.py"
   ]
  },
  {
   "cell_type": "code",
   "execution_count": null,
   "id": "72bf2596",
   "metadata": {},
   "outputs": [],
   "source": [
    "!mpiexec -n 2 python trafficmpi.py"
   ]
  },
  {
   "cell_type": "code",
   "execution_count": null,
   "id": "ba85f9d5",
   "metadata": {},
   "outputs": [],
   "source": [
    "x=1"
   ]
  },
  {
   "cell_type": "code",
   "execution_count": null,
   "id": "6d048dd4",
   "metadata": {},
   "outputs": [],
   "source": [
    "print(x)"
   ]
  },
  {
   "cell_type": "code",
   "execution_count": 6,
   "id": "de230435",
   "metadata": {},
   "outputs": [
    {
     "name": "stdout",
     "output_type": "stream",
     "text": [
      "Length of road is 1000000\n",
      "Number of iterations is 2000\n",
      "Target density of cars is 0.52\n",
      "Running on 2 process(es)\n",
      "Initialising ...\n",
      "Actual Density of cars is 0.519688\n",
      "\n",
      "Scattering data ...\n",
      "... done\n",
      "\n",
      "At iteration 200 average velocity is 0.912280\n",
      "At iteration 400 average velocity is 0.919625\n",
      "At iteration 600 average velocity is 0.922078\n",
      "At iteration 800 average velocity is 0.923125\n",
      "At iteration 1000 average velocity is 0.923656\n",
      "At iteration 1200 average velocity is 0.923899\n",
      "At iteration 1400 average velocity is 0.924045\n",
      "At iteration 1600 average velocity is 0.924112\n",
      "At iteration 1800 average velocity is 0.924141\n",
      "At iteration 2000 average velocity is 0.924187\n",
      "\n",
      "Finished\n",
      "\n",
      "Time taken was 8.975 seconds\n",
      "Update rate was 222.83 MCOPs\n",
      "\n"
     ]
    }
   ],
   "source": [
    "!mpiexec -n 2 python trafficmpi.py"
   ]
  },
  {
   "cell_type": "code",
   "execution_count": 1,
   "id": "c8a74f46",
   "metadata": {},
   "outputs": [
    {
     "name": "stdout",
     "output_type": "stream",
     "text": [
      "Unknown option: --timeout\n"
     ]
    }
   ],
   "source": [
    "!mpiexec --timeout 2 python trafficmpi.py\n"
   ]
  },
  {
   "cell_type": "code",
   "execution_count": 2,
   "id": "8e581270",
   "metadata": {},
   "outputs": [
    {
     "name": "stdout",
     "output_type": "stream",
     "text": [
      "Unknown option: /timoeut\n"
     ]
    }
   ],
   "source": [
    "!mpiexec /timoeut 10 -n2 python trafficmpi.py"
   ]
  },
  {
   "cell_type": "code",
   "execution_count": 3,
   "id": "ed3bf38b",
   "metadata": {},
   "outputs": [
    {
     "name": "stdout",
     "output_type": "stream",
     "text": [
      "Error: expecting a positive timeout value following the /timeout option.\n"
     ]
    }
   ],
   "source": [
    "!mpiexec /timeout 10-n2 python trafficmpi.py"
   ]
  },
  {
   "cell_type": "code",
   "execution_count": 4,
   "id": "3d120392",
   "metadata": {},
   "outputs": [
    {
     "name": "stdout",
     "output_type": "stream",
     "text": [
      "Unknown option: -n2\n"
     ]
    }
   ],
   "source": [
    "!mpiexec /timeout 10 -n2 python trafficmpi.py"
   ]
  },
  {
   "cell_type": "code",
   "execution_count": 5,
   "id": "696d3a20",
   "metadata": {},
   "outputs": [
    {
     "name": "stdout",
     "output_type": "stream",
     "text": [
      "Length of road is 1000000\n",
      "Number of iterations is 2000\n",
      "Target density of cars is 0.52\n",
      "Running on 2 process(es)\n",
      "Initialising ...\n",
      "Actual Density of cars is 0.519688\n",
      "\n",
      "Scattering data ...\n",
      "... done\n",
      "\n",
      "At iteration 200 average velocity is 0.912280\n",
      "At iteration 400 average velocity is 0.919625\n",
      "At iteration 600 average velocity is 0.922078\n",
      "At iteration 800 average velocity is 0.923125\n",
      "At iteration 1000 average velocity is 0.923656\n",
      "At iteration 1200 average velocity is 0.923899\n",
      "At iteration 1400 average velocity is 0.924045\n",
      "At iteration 1600 average velocity is 0.924112\n",
      "At iteration 1800 average velocity is 0.924141\n",
      "At iteration 2000 average velocity is 0.924187\n",
      "\n",
      "Finished\n",
      "\n",
      "Time taken was 8.321 seconds\n",
      "Update rate was 240.35 MCOPs\n",
      "\n"
     ]
    }
   ],
   "source": [
    "!mpiexec /timeout 10 -n 2 python trafficmpi.py"
   ]
  },
  {
   "cell_type": "code",
   "execution_count": 6,
   "id": "3cc1d57b",
   "metadata": {
    "scrolled": true
   },
   "outputs": [
    {
     "name": "stdout",
     "output_type": "stream",
     "text": [
      "Length of road is 1000000\n",
      "Number of iterations is 2000\n",
      "Target density of cars is 0.52\n",
      "Running on 2 process(es)\n",
      "Initialising ...\n",
      "Actual Density of cars is 0.519688\n",
      "\n",
      "Scattering data ...\n",
      "... done\n",
      "\n",
      "At iteration 200 average velocity is 0.912280\n",
      "At iteration 400 average velocity is 0.919625\n",
      "At iteration 600 average velocity is 0.922078\n",
      "At iteration 800 average velocity is 0.923125\n",
      "At iteration 1000 average velocity is 0.923656\n",
      "At iteration 1200 average velocity is 0.923899\n",
      "At iteration 1400 average velocity is 0.924045\n",
      "At iteration 1600 average velocity is 0.924112\n",
      "At iteration 1800 average velocity is 0.924141\n",
      "At iteration 2000 average velocity is 0.924187\n",
      "\n",
      "Finished\n",
      "\n",
      "Time taken was 7.825 seconds\n",
      "Update rate was 255.59 MCOPs\n",
      "\n"
     ]
    }
   ],
   "source": [
    "!mpiexec -n 2 python trafficmpi.py"
   ]
  },
  {
   "cell_type": "code",
   "execution_count": null,
   "id": "71f95b28",
   "metadata": {},
   "outputs": [],
   "source": [
    "# %load ../code/P-SER/trafficlib.py\n",
    "import numpy as np\n",
    "\n",
    "def initroad(road, density, seedval):\n",
    "\n",
    "    np.random.seed(seedval)\n",
    "\n",
    "    n = len(road)-2\n",
    "\n",
    "    ncar = 0\n",
    "\n",
    "    for i in range(1, n+1):\n",
    "        \n",
    "        rng = np.random.random()\n",
    "\n",
    "        if rng < density:\n",
    "            road[i] = 1\n",
    "        else:\n",
    "            road[i] = 0\n",
    "\n",
    "        ncar = ncar + road[i]\n",
    "\n",
    "    return ncar\n",
    "\n",
    "\n",
    "def updateroad(newroad, oldroad):\n",
    "\n",
    "    n = len(oldroad)-2\n",
    "\n",
    "    nmove = 0\n",
    "\n",
    "    for i in range(1, n+1):\n",
    "\n",
    "#        if oldroad[i] == 1:\n",
    "#            if oldroad[i+1] == 1:\n",
    "#                newroad[i] = 1\n",
    "#            else:\n",
    "#                newroad[i] = 0\n",
    "#                nmove = nmove + 1\n",
    "#        else:\n",
    "#            if oldroad[i-1] == 1:\n",
    "#                newroad[i] = 1\n",
    "#            else:\n",
    "#                newroad[i] = 0\n",
    "\n",
    "        if oldroad[i] == 0:\n",
    "            newroad[i] = oldroad[i-1]\n",
    "        else:\n",
    "            newroad[i] = oldroad[i+1]\n",
    "\n",
    "        if newroad[i] != oldroad[i]:\n",
    "            nmove = nmove + 1\n",
    "\n",
    "    nmove = nmove/2\n",
    "\n",
    "    return nmove\n",
    "\n",
    "\n",
    "def updatebcs(road):\n",
    "\n",
    "    n = len(road)-2\n",
    "\n",
    "    road[0]   = road[n]\n",
    "    road[n+1] = road[1]\n",
    "\n",
    "\n",
    "import time\n",
    "\n",
    "def gettime():\n",
    "\n",
    "    return time.time()\n"
   ]
  },
  {
   "cell_type": "code",
   "execution_count": null,
   "id": "bb3d3d35",
   "metadata": {},
   "outputs": [],
   "source": []
  }
 ],
 "metadata": {
  "kernelspec": {
   "display_name": "Python 3 (ipykernel)",
   "language": "python",
   "name": "python3"
  },
  "language_info": {
   "codemirror_mode": {
    "name": "ipython",
    "version": 3
   },
   "file_extension": ".py",
   "mimetype": "text/x-python",
   "name": "python",
   "nbconvert_exporter": "python",
   "pygments_lexer": "ipython3",
   "version": "3.9.12"
  }
 },
 "nbformat": 4,
 "nbformat_minor": 5
}
